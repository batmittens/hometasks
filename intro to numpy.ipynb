{
  "nbformat": 4,
  "nbformat_minor": 0,
  "metadata": {
    "kernelspec": {
      "display_name": "Python 3",
      "language": "python",
      "name": "python3"
    },
    "language_info": {
      "codemirror_mode": {
        "name": "ipython",
        "version": 3
      },
      "file_extension": ".py",
      "mimetype": "text/x-python",
      "name": "python",
      "nbconvert_exporter": "python",
      "pygments_lexer": "ipython3",
      "version": "3.8.7"
    },
    "colab": {
      "name": "Фамилия_Имя_hw04_intro_to_numpy.ipynb",
      "provenance": []
    }
  },
  "cells": [
    {
      "cell_type": "markdown",
      "metadata": {
        "id": "neeaEOx7_fy3"
      },
      "source": [
        "## Домашнее задание 3. Знакомство с Numpy \n",
        "***Не оцениваются задания с удаленными/исправленными/закоменченными формулировками. Лучше всего ячейки с заданием не трогать, а создавать новые для своих экспериментов.***\n",
        "\n",
        "Результат домашней работы − ноутбук с кодом. Мы предпочитаем принимать отчеты в формате ноутбуков Jupyter (ipynb-файл). При проверке оценивается, правильно ли написан код, который решает задачу, а так же аккуратность кода.\n",
        "\n",
        "\n",
        "### Оценивание и штрафы\n",
        "\n",
        "* Каждая из задач имеет определенную «стоимость» (указана в скобках около задачи)\n",
        "* Максимально допустимая оценка за работу — 20 баллов. **Для засчитывания этого задания необходимо набрать минимум 5 баллов из 20**\n",
        "* Сдавать задание после указанного срока сдачи нельзя\n",
        "* «Похожие» решения считаются плагиатом и все задействованные студенты (в том числе те, у кого списали) не могут получить за него больше 0 баллов.\n",
        "* Если вы нашли решение какого-то из заданий в открытом источнике, необходимо прислать ссылку на этот источник (скорее всего вы будете не единственным, кто это нашел, поэтому чтобы исключить подозрение в плагиате, необходима ссылка на источник)\n",
        "* Не оцениваются задания с удалёнными формулировкам\n",
        "* Не оценивается домашняя работа целиком, если она была выложена в открытый источник\n",
        "\n",
        "\n",
        "**Разбалловка:**\n",
        "- 19-20 - 10 баллов (отлично)\n",
        "- 17-18 - 9 баллов (отлично)\n",
        "- 15-16 - 8 баллов (отлично)\n",
        "- 13-14 - 7 баллов (хорошо)\n",
        "- 11-12 - 6 баллов (хорошо)\n",
        "- 9-10 - 5 баллов (хорошо)\n",
        "- 7-8 - 4 балла (удовлетворительно)\n",
        "- 5-6 - 3 балла (удовлетворительно)\n",
        "- <= 4 баллов - незачет (неудовлетворительно)\n",
        "\n",
        "\n",
        "###  Правила сдачи\n",
        "\n",
        "Работу необходимо отправить в систему ЦДПО МФТИ в соответствующее задание на странице курса. В названии файла поменяйте подстроки \"Фамилия\" и \"Имя\" на свои:"
      ]
    },
    {
      "cell_type": "code",
      "metadata": {
        "colab": {
          "base_uri": "https://localhost:8080/",
          "height": 35
        },
        "id": "JmdMFEn-_fy9",
        "outputId": "575d210e-d4a3-4242-aa93-10a045c4c7a7"
      },
      "source": [
        "your_name = 'Анастасия'\n",
        "your_second_name = 'Щекочихина'\n",
        "\"Фамилия_Имя_hw03_intro_to_numpy\".replace(\"Фамилия\", your_second_name).replace(\"Имя\", your_name)"
      ],
      "execution_count": null,
      "outputs": [
        {
          "output_type": "execute_result",
          "data": {
            "application/vnd.google.colaboratory.intrinsic+json": {
              "type": "string"
            },
            "text/plain": [
              "'Щекочихина_Анастасия_hw03_intro_to_numpy'"
            ]
          },
          "metadata": {
            "tags": []
          },
          "execution_count": 1
        }
      ]
    },
    {
      "cell_type": "markdown",
      "metadata": {
        "id": "tL2IZEHa_fzA"
      },
      "source": [
        "**Дедлайн: 10 мая 23:59. После этого времени работы не принимаются.**"
      ]
    },
    {
      "cell_type": "markdown",
      "metadata": {
        "id": "Gyk4hDaT_fzC"
      },
      "source": [
        "Как обычно, ко многим заданиям дан вывод авторского кода, можете опираться на этот вывод для понимания, правильно ли выполнено задание"
      ]
    },
    {
      "cell_type": "markdown",
      "metadata": {
        "id": "50KaL-_m_fzD"
      },
      "source": [
        "### Полезные ссылки по Numpy:\n",
        "\n",
        "- быстрый старт в Numpy: https://numpy.org/doc/stable/user/quickstart.html\n",
        "- руководство для совсем начинающих изучать Numpy: https://numpy.org/doc/stable/user/absolute_beginners.html\n",
        "- документация с примерами по основным методам Numpy: https://numpy.org/doc/stable/user/basics.html\n",
        "- Справочник методов Numpy: https://www.w3resource.com/python-exercises/numpy/index.php"
      ]
    },
    {
      "cell_type": "markdown",
      "metadata": {
        "id": "G0uVZ65X_fzH"
      },
      "source": [
        "# Numpy (всего 20 баллов)"
      ]
    },
    {
      "cell_type": "markdown",
      "metadata": {
        "id": "HgmuYo8a_fzI"
      },
      "source": [
        "### В этом разделе запрещается пользоваться циклами! Только методы numpy. \n",
        "\n",
        "### Каждая задача в этом разделе решается одной-двумя строками кода. Нужно просто подумать или найти подходящий метод в numpy"
      ]
    },
    {
      "cell_type": "code",
      "metadata": {
        "id": "iXSvwwEy_fzK"
      },
      "source": [
        "import numpy as np"
      ],
      "execution_count": null,
      "outputs": []
    },
    {
      "cell_type": "markdown",
      "metadata": {
        "id": "hWEWv38R_fzM"
      },
      "source": [
        "**Задание 1** (1 балл)\n",
        "\n",
        "Создайте одномерный массив чисел от 0 до 8.\n",
        "\n",
        "Сделайте это двумя способами: с помощью метода `arange` из numpy и с помощью преобразования списка (list) в numpy array"
      ]
    },
    {
      "cell_type": "code",
      "metadata": {
        "colab": {
          "base_uri": "https://localhost:8080/"
        },
        "id": "LrcGYXLHr0DC",
        "outputId": "7fb3d1f9-bcd5-4ba5-b9c0-517dff58e97a"
      },
      "source": [
        "a = [0,1,2,3,4,5,6,7,8]\n",
        "a = np.array(a)\n",
        "a"
      ],
      "execution_count": null,
      "outputs": [
        {
          "output_type": "execute_result",
          "data": {
            "text/plain": [
              "array([0, 1, 2, 3, 4, 5, 6, 7, 8])"
            ]
          },
          "metadata": {
            "tags": []
          },
          "execution_count": 3
        }
      ]
    },
    {
      "cell_type": "code",
      "metadata": {
        "colab": {
          "base_uri": "https://localhost:8080/"
        },
        "id": "QR5pHeoBsgtP",
        "outputId": "81df2ea9-2404-4587-94e2-d24c91d943f5"
      },
      "source": [
        "b = np.arange(9)\n",
        "b"
      ],
      "execution_count": null,
      "outputs": [
        {
          "output_type": "execute_result",
          "data": {
            "text/plain": [
              "array([0, 1, 2, 3, 4, 5, 6, 7, 8])"
            ]
          },
          "metadata": {
            "tags": []
          },
          "execution_count": 4
        }
      ]
    },
    {
      "cell_type": "code",
      "metadata": {
        "id": "pqO5qEJt_fzN",
        "outputId": "ae4a9e08-f825-42e6-c733-2912121caecf"
      },
      "source": [
        ""
      ],
      "execution_count": null,
      "outputs": [
        {
          "output_type": "execute_result",
          "data": {
            "text/plain": [
              "array([0, 1, 2, 3, 4, 5, 6, 7, 8])"
            ]
          },
          "metadata": {
            "tags": []
          },
          "execution_count": 2
        }
      ]
    },
    {
      "cell_type": "markdown",
      "metadata": {
        "id": "St9h0qpI_fzP"
      },
      "source": [
        "**Задание 2** (1 балл)\n",
        "\n",
        "Создайте массив numpy размером 3×3 со всеми значениями, равными True (подсказка: создайте массив из единиц и приведите тип массива к bool)"
      ]
    },
    {
      "cell_type": "code",
      "metadata": {
        "colab": {
          "base_uri": "https://localhost:8080/"
        },
        "id": "9G2gWSyQs8sk",
        "outputId": "f2819b71-1ab4-4720-d0f5-823d9706c7cb"
      },
      "source": [
        "m = np.ones((3, 3), dtype=bool)\n",
        "m"
      ],
      "execution_count": null,
      "outputs": [
        {
          "output_type": "execute_result",
          "data": {
            "text/plain": [
              "array([[ True,  True,  True],\n",
              "       [ True,  True,  True],\n",
              "       [ True,  True,  True]])"
            ]
          },
          "metadata": {
            "tags": []
          },
          "execution_count": 5
        }
      ]
    },
    {
      "cell_type": "code",
      "metadata": {
        "id": "p9NsGFR6_fzQ",
        "outputId": "df292b30-21a4-43fa-84ab-263fc5c67023"
      },
      "source": [
        ""
      ],
      "execution_count": null,
      "outputs": [
        {
          "output_type": "execute_result",
          "data": {
            "text/plain": [
              "array([[ True,  True,  True],\n",
              "       [ True,  True,  True],\n",
              "       [ True,  True,  True]])"
            ]
          },
          "metadata": {
            "tags": []
          },
          "execution_count": 4
        }
      ]
    },
    {
      "cell_type": "markdown",
      "metadata": {
        "id": "aV84q-Fp_fzR"
      },
      "source": [
        "**Задание 3** (1 балл)\n",
        "\n",
        "Вам дан numpy array под названием ```test_array```. Выведите положительные элементы этого массива\n",
        "\n",
        "*Подсказка:* здесь можно также использовать булевы массивы в качестве булевой маски, как в Pandas. Иначе говоря, фильтрация по условию работает с очень похожим синтаксисом, как в Pandas."
      ]
    },
    {
      "cell_type": "code",
      "metadata": {
        "id": "VHdbJJGW_fzS"
      },
      "source": [
        "test_array = np.array([ 0, -1,  5, -3,  7, -1,  6, -1,  8, -1])"
      ],
      "execution_count": null,
      "outputs": []
    },
    {
      "cell_type": "code",
      "metadata": {
        "colab": {
          "base_uri": "https://localhost:8080/"
        },
        "id": "_QBch6WWv4J3",
        "outputId": "37ce4317-1697-4a76-ef38-f63eb268c93c"
      },
      "source": [
        "test_array[test_array>0]"
      ],
      "execution_count": null,
      "outputs": [
        {
          "output_type": "execute_result",
          "data": {
            "text/plain": [
              "array([5, 7, 6, 8])"
            ]
          },
          "metadata": {
            "tags": []
          },
          "execution_count": 23
        }
      ]
    },
    {
      "cell_type": "code",
      "metadata": {
        "id": "DJjowyF3_fzU",
        "outputId": "2190b6d2-1ffe-4d01-b321-181b3845f323"
      },
      "source": [
        ""
      ],
      "execution_count": null,
      "outputs": [
        {
          "output_type": "execute_result",
          "data": {
            "text/plain": [
              "array([5, 7, 6, 8])"
            ]
          },
          "metadata": {
            "tags": []
          },
          "execution_count": 6
        }
      ]
    },
    {
      "cell_type": "markdown",
      "metadata": {
        "id": "9tuTi2ZE_fzV"
      },
      "source": [
        "**Задание 4** (1 балл)\n",
        "\n",
        "Замените отрицательные элементы из массива ```test_array``` на 0. Подсказка: вам пригодится функция ```np.where```"
      ]
    },
    {
      "cell_type": "code",
      "metadata": {
        "colab": {
          "base_uri": "https://localhost:8080/"
        },
        "id": "CfyGVP_7_fzW",
        "outputId": "1d1897b5-1f49-4eab-f592-8c651f40c06d"
      },
      "source": [
        "np.where(test_array >0, test_array, 0 )"
      ],
      "execution_count": null,
      "outputs": [
        {
          "output_type": "execute_result",
          "data": {
            "text/plain": [
              "array([0, 0, 5, 0, 7, 0, 6, 0, 8, 0])"
            ]
          },
          "metadata": {
            "tags": []
          },
          "execution_count": 12
        }
      ]
    },
    {
      "cell_type": "code",
      "metadata": {
        "id": "Nmlph4EWKr-z",
        "outputId": "134afc47-47fc-4ec9-c73a-af41fdfa10de"
      },
      "source": [
        ""
      ],
      "execution_count": null,
      "outputs": [
        {
          "output_type": "execute_result",
          "data": {
            "text/plain": [
              "array([0, 0, 5, 0, 7, 0, 6, 0, 8, 0])"
            ]
          },
          "metadata": {
            "tags": []
          },
          "execution_count": 7
        }
      ]
    },
    {
      "cell_type": "markdown",
      "metadata": {
        "id": "jkhDjJ_i_fzX"
      },
      "source": [
        "**Задание 5** (1 балл)\n",
        "\n",
        "Вам дан массив из 10 чисел. С помощью одной функции в numpy найдите позицию максимального элемента в заданном массиве"
      ]
    },
    {
      "cell_type": "code",
      "metadata": {
        "id": "9qYY8yTi_fzY"
      },
      "source": [
        "array = np.array([6, 8, 4, 2, 11, -3, 7, 22, -20, -30])"
      ],
      "execution_count": 42,
      "outputs": []
    },
    {
      "cell_type": "code",
      "metadata": {
        "id": "eEUpe1rzNbr8",
        "outputId": "a178534c-8d94-493b-f111-282393ea15e2",
        "colab": {
          "base_uri": "https://localhost:8080/"
        }
      },
      "source": [
        "array.argmax()"
      ],
      "execution_count": 43,
      "outputs": [
        {
          "output_type": "execute_result",
          "data": {
            "text/plain": [
              "7"
            ]
          },
          "metadata": {
            "tags": []
          },
          "execution_count": 43
        }
      ]
    },
    {
      "cell_type": "code",
      "metadata": {
        "id": "cVnR4kRo_fzZ",
        "outputId": "2af59d7f-4fd4-4ff0-94f7-7a5a875f9a24"
      },
      "source": [
        ""
      ],
      "execution_count": null,
      "outputs": [
        {
          "output_type": "execute_result",
          "data": {
            "text/plain": [
              "7"
            ]
          },
          "metadata": {
            "tags": []
          },
          "execution_count": 9
        }
      ]
    },
    {
      "cell_type": "markdown",
      "metadata": {
        "id": "UezzuPO0_fza"
      },
      "source": [
        "**Задание 6** (1 балл)\n",
        "\n",
        "Вам дан словарь, в котором подсчитаны частоты женских имен в выборке из 20 новорожденных девочек."
      ]
    },
    {
      "cell_type": "code",
      "metadata": {
        "colab": {
          "base_uri": "https://localhost:8080/"
        },
        "id": "6ySIQBOR_fzb",
        "outputId": "abecc257-b06d-4eb4-92bc-f1f16f0cbdec"
      },
      "source": [
        "names = dict()\n",
        "names['Катя'] = 8\n",
        "names[\"Maша\"] = 5\n",
        "names[\"Вероника\"] = 2\n",
        "names[\"Ярослава\"] = 1\n",
        "names[\"Александра\"] = 10\n",
        "\n",
        "names"
      ],
      "execution_count": null,
      "outputs": [
        {
          "output_type": "execute_result",
          "data": {
            "text/plain": [
              "{'Maша': 5, 'Александра': 10, 'Вероника': 2, 'Катя': 8, 'Ярослава': 1}"
            ]
          },
          "metadata": {
            "tags": []
          },
          "execution_count": 24
        }
      ]
    },
    {
      "cell_type": "markdown",
      "metadata": {
        "id": "V6QHPS16_fzd"
      },
      "source": [
        "Посчитайте процентные доли имен, с помощью нормирования ветора значений.\n",
        "\n",
        "*Подсказка:* просто возьмите этот вектор значений и поделите его на сумму элементов в нем"
      ]
    },
    {
      "cell_type": "code",
      "metadata": {
        "colab": {
          "base_uri": "https://localhost:8080/"
        },
        "id": "XNOqMcLB_fze",
        "outputId": "aff47f54-91e6-46df-8a60-9c015fad92bc"
      },
      "source": [
        "names_count = np.array(list(names.values()))\n",
        "names_count"
      ],
      "execution_count": null,
      "outputs": [
        {
          "output_type": "execute_result",
          "data": {
            "text/plain": [
              "array([ 8,  5,  2,  1, 10])"
            ]
          },
          "metadata": {
            "tags": []
          },
          "execution_count": 25
        }
      ]
    },
    {
      "cell_type": "code",
      "metadata": {
        "id": "1qwqYIudSG8y",
        "outputId": "0fdbd3ac-56f1-4c9b-c1f8-bc92f1c364ac",
        "colab": {
          "base_uri": "https://localhost:8080/"
        }
      },
      "source": [
        "names_count/names_count.sum()"
      ],
      "execution_count": 69,
      "outputs": [
        {
          "output_type": "execute_result",
          "data": {
            "text/plain": [
              "array([0.30769231, 0.19230769, 0.07692308, 0.03846154, 0.38461538])"
            ]
          },
          "metadata": {
            "tags": []
          },
          "execution_count": 69
        }
      ]
    },
    {
      "cell_type": "code",
      "metadata": {
        "id": "sPgzHgoA_fzf",
        "outputId": "e6a83da2-66a8-4da7-c07e-88201abb085b"
      },
      "source": [
        ""
      ],
      "execution_count": null,
      "outputs": [
        {
          "output_type": "execute_result",
          "data": {
            "text/plain": [
              "array([0.30769231, 0.19230769, 0.07692308, 0.03846154, 0.38461538])"
            ]
          },
          "metadata": {
            "tags": []
          },
          "execution_count": 12
        }
      ]
    },
    {
      "cell_type": "markdown",
      "metadata": {
        "id": "uR9R50oK_fzg"
      },
      "source": [
        "Примечание: мы только что произвели операцию **нормирования вектора** (теперь его элементы суммируются в 1), а получившиеся элементы можно интерпретировать как **вероятности** (в примере выше это веростности того, что случайно взятая новорожденная девочка будет иметь какое-то конкретное имя)"
      ]
    },
    {
      "cell_type": "markdown",
      "metadata": {
        "id": "x6-ucuGb_fzi"
      },
      "source": [
        "**Задание 7** (1 балл)\n",
        "\n",
        "Вам дан массив ```arr```. Выведите все его элементы, которые строго больше 5, и строго меньше 9\n",
        "\n",
        "*Подсказка:* здесь можно также использовать булевы массивы в качестве булевой маски, как в Pandas. Иначе говоря, фильтрация по условию работает с очень похожим синтаксисом, как в Pandas."
      ]
    },
    {
      "cell_type": "code",
      "metadata": {
        "id": "dtpl5ysc_fzk"
      },
      "source": [
        "arr = np.array([7,2,10,2,7,4,9,4,9,8])"
      ],
      "execution_count": null,
      "outputs": []
    },
    {
      "cell_type": "code",
      "metadata": {
        "colab": {
          "base_uri": "https://localhost:8080/"
        },
        "id": "PiLDQyfk_fzm",
        "outputId": "75a022b1-929f-47e6-9dfe-043c85359382"
      },
      "source": [
        "arr[(arr>5) & (arr<9)]"
      ],
      "execution_count": 51,
      "outputs": [
        {
          "output_type": "execute_result",
          "data": {
            "text/plain": [
              "array([7, 7, 8])"
            ]
          },
          "metadata": {
            "tags": []
          },
          "execution_count": 51
        }
      ]
    },
    {
      "cell_type": "code",
      "metadata": {
        "id": "-lDtHxrbKr-6",
        "outputId": "560415ac-dc14-4685-ed6b-169ff9eba2da"
      },
      "source": [
        ""
      ],
      "execution_count": null,
      "outputs": [
        {
          "output_type": "execute_result",
          "data": {
            "text/plain": [
              "array([7, 7, 8])"
            ]
          },
          "metadata": {
            "tags": []
          },
          "execution_count": 14
        }
      ]
    },
    {
      "cell_type": "markdown",
      "metadata": {
        "id": "SDgQEW1C_fzo"
      },
      "source": [
        "### Работа с двумерными массивами"
      ]
    },
    {
      "cell_type": "markdown",
      "metadata": {
        "id": "nFxwHufR_fzp"
      },
      "source": [
        "**Задание 8** (1 балл)\n",
        "\n",
        "Создайте методом из numpy одномерный массив из 12 элементов от 0 до 11 и сделайте из него матрицу размером 3х4 (вам пригодится функция ```np.reshape```)"
      ]
    },
    {
      "cell_type": "code",
      "metadata": {
        "id": "svOgjqk5O9Ww",
        "outputId": "650f1986-7bf7-4699-b6e6-71b236c8522a",
        "colab": {
          "base_uri": "https://localhost:8080/"
        }
      },
      "source": [
        "np.arange(12).reshape((3,4))"
      ],
      "execution_count": 56,
      "outputs": [
        {
          "output_type": "execute_result",
          "data": {
            "text/plain": [
              "array([[ 0,  1,  2,  3],\n",
              "       [ 4,  5,  6,  7],\n",
              "       [ 8,  9, 10, 11]])"
            ]
          },
          "metadata": {
            "tags": []
          },
          "execution_count": 56
        }
      ]
    },
    {
      "cell_type": "code",
      "metadata": {
        "id": "Rfa6pJM3_fzq",
        "outputId": "0f975e60-f753-48ec-a808-9f8a22f53dfc"
      },
      "source": [
        ""
      ],
      "execution_count": null,
      "outputs": [
        {
          "output_type": "execute_result",
          "data": {
            "text/plain": [
              "array([[ 0,  1,  2,  3],\n",
              "       [ 4,  5,  6,  7],\n",
              "       [ 8,  9, 10, 11]])"
            ]
          },
          "metadata": {
            "tags": []
          },
          "execution_count": 15
        }
      ]
    },
    {
      "cell_type": "markdown",
      "metadata": {
        "id": "Loh0UGp__fzr"
      },
      "source": [
        "**Задание 9** (1 балл)\n",
        "\n",
        "Соедините вертикально две созданные матрицы 2x4"
      ]
    },
    {
      "cell_type": "code",
      "metadata": {
        "id": "ejm2k10m_fzt"
      },
      "source": [
        "a = np.arange(8).reshape(2,4)\n",
        "b = np.ones(8).reshape(2,4)"
      ],
      "execution_count": 57,
      "outputs": []
    },
    {
      "cell_type": "code",
      "metadata": {
        "id": "11E7EgccPpPr",
        "outputId": "68ff20da-20c3-40b0-c30d-74a7be26b23d",
        "colab": {
          "base_uri": "https://localhost:8080/"
        }
      },
      "source": [
        "np.vstack((a,b))"
      ],
      "execution_count": 58,
      "outputs": [
        {
          "output_type": "execute_result",
          "data": {
            "text/plain": [
              "array([[0., 1., 2., 3.],\n",
              "       [4., 5., 6., 7.],\n",
              "       [1., 1., 1., 1.],\n",
              "       [1., 1., 1., 1.]])"
            ]
          },
          "metadata": {
            "tags": []
          },
          "execution_count": 58
        }
      ]
    },
    {
      "cell_type": "code",
      "metadata": {
        "id": "IcDWFrQ5_fzu",
        "outputId": "d64ccea2-7b2b-4177-b072-5110e753a953"
      },
      "source": [
        ""
      ],
      "execution_count": null,
      "outputs": [
        {
          "output_type": "execute_result",
          "data": {
            "text/plain": [
              "array([[0., 1., 2., 3.],\n",
              "       [4., 5., 6., 7.],\n",
              "       [1., 1., 1., 1.],\n",
              "       [1., 1., 1., 1.]])"
            ]
          },
          "metadata": {
            "tags": []
          },
          "execution_count": 17
        }
      ]
    },
    {
      "cell_type": "markdown",
      "metadata": {
        "id": "oXmDBbGD_fzv"
      },
      "source": [
        "**Задание 10** (1 балл)\n",
        "\n",
        "Теперь соедините эти же две матрицы горизонтально"
      ]
    },
    {
      "cell_type": "code",
      "metadata": {
        "id": "B8kC_juiPzNv",
        "outputId": "7be6b59c-d001-46b3-d0c2-9e029d2a83a5",
        "colab": {
          "base_uri": "https://localhost:8080/"
        }
      },
      "source": [
        "np.hstack((a,b))"
      ],
      "execution_count": 59,
      "outputs": [
        {
          "output_type": "execute_result",
          "data": {
            "text/plain": [
              "array([[0., 1., 2., 3., 1., 1., 1., 1.],\n",
              "       [4., 5., 6., 7., 1., 1., 1., 1.]])"
            ]
          },
          "metadata": {
            "tags": []
          },
          "execution_count": 59
        }
      ]
    },
    {
      "cell_type": "code",
      "metadata": {
        "id": "55FloFIf_fzw",
        "outputId": "1f084805-c948-4259-b8c8-b6d25858e5f3"
      },
      "source": [
        ""
      ],
      "execution_count": null,
      "outputs": [
        {
          "output_type": "execute_result",
          "data": {
            "text/plain": [
              "array([[0., 1., 2., 3., 1., 1., 1., 1.],\n",
              "       [4., 5., 6., 7., 1., 1., 1., 1.]])"
            ]
          },
          "metadata": {
            "tags": []
          },
          "execution_count": 18
        }
      ]
    },
    {
      "cell_type": "markdown",
      "metadata": {
        "id": "65mpnsMv_fzx"
      },
      "source": [
        "**Задание 11** (1 балл)\n",
        "\n",
        "Сохраните в отдельную переменную второй столбец (столбец с индексом 1) из данного вам двумерного массива. \n",
        "\n",
        "Обратите внимение, что при вырезании столбца из матрицы, у вас получится одномерный numpy-array, а не двумерная матрица с одним столбцом!"
      ]
    },
    {
      "cell_type": "code",
      "metadata": {
        "id": "-nPwG4eM_fzy",
        "outputId": "4a17c650-5c5c-43b1-debb-45b48e4a8e64",
        "colab": {
          "base_uri": "https://localhost:8080/"
        }
      },
      "source": [
        "arr = np.arange(12).reshape(3,4)\n",
        "arr"
      ],
      "execution_count": 60,
      "outputs": [
        {
          "output_type": "execute_result",
          "data": {
            "text/plain": [
              "array([[ 0,  1,  2,  3],\n",
              "       [ 4,  5,  6,  7],\n",
              "       [ 8,  9, 10, 11]])"
            ]
          },
          "metadata": {
            "tags": []
          },
          "execution_count": 60
        }
      ]
    },
    {
      "cell_type": "code",
      "metadata": {
        "id": "-9grSLfPQUeX",
        "outputId": "b86f0dd6-23f7-4e23-d297-aacb7e7dc7da",
        "colab": {
          "base_uri": "https://localhost:8080/"
        }
      },
      "source": [
        "arr11 = arr[:,1]\n",
        "arr11"
      ],
      "execution_count": 65,
      "outputs": [
        {
          "output_type": "execute_result",
          "data": {
            "text/plain": [
              "array([1, 5, 9])"
            ]
          },
          "metadata": {
            "tags": []
          },
          "execution_count": 65
        }
      ]
    },
    {
      "cell_type": "code",
      "metadata": {
        "id": "Jalelqv3_fzz",
        "outputId": "1504622a-ac8a-4529-9661-67f23f3668fb"
      },
      "source": [
        ""
      ],
      "execution_count": null,
      "outputs": [
        {
          "output_type": "execute_result",
          "data": {
            "text/plain": [
              "array([1, 5, 9])"
            ]
          },
          "metadata": {
            "tags": []
          },
          "execution_count": 20
        }
      ]
    },
    {
      "cell_type": "markdown",
      "metadata": {
        "id": "V8jwe8OR_fz0"
      },
      "source": [
        "**Задание 12** (3 балла)\n",
        "\n",
        "Создайте массив из случайных чисел размера 3 на 4 (3 строки и 4 столбца) и сохраните его в переменную ```random_array```. Найдите среднее, медиану, стандартное отклонение созданной матрицы ```random_array``` по строкам и по столбцам. По одной строке на среднее, медиану, и стандартное отклонение для операций по строкам и по столбцам - всего 6 строк кода"
      ]
    },
    {
      "cell_type": "code",
      "metadata": {
        "id": "2uEERWFZ_fz2"
      },
      "source": [
        ""
      ],
      "execution_count": null,
      "outputs": []
    },
    {
      "cell_type": "markdown",
      "metadata": {
        "id": "qvfNNIGt_fz3"
      },
      "source": [
        "**Задание 13** (1 балл)\n",
        "\n",
        "Преобразуйте заданный одномерный numpy array ```arr``` в двумерную матрицу из одного столбца"
      ]
    },
    {
      "cell_type": "code",
      "metadata": {
        "id": "sekwH9HT_fz4",
        "outputId": "a318d848-82ce-4b99-f296-283e3f74d03f"
      },
      "source": [
        "arr = np.array([2, 4, 5, 7, 100])\n",
        "arr.shape"
      ],
      "execution_count": null,
      "outputs": [
        {
          "output_type": "execute_result",
          "data": {
            "text/plain": [
              "(5,)"
            ]
          },
          "metadata": {
            "tags": []
          },
          "execution_count": 21
        }
      ]
    },
    {
      "cell_type": "code",
      "metadata": {
        "id": "AUpj1Ivx_fz6",
        "outputId": "166feca4-77d7-40e2-e442-82b2c8b67fcd"
      },
      "source": [
        ""
      ],
      "execution_count": null,
      "outputs": [
        {
          "output_type": "execute_result",
          "data": {
            "text/plain": [
              "array([[  2],\n",
              "       [  4],\n",
              "       [  5],\n",
              "       [  7],\n",
              "       [100]])"
            ]
          },
          "metadata": {
            "tags": []
          },
          "execution_count": 22
        }
      ]
    },
    {
      "cell_type": "code",
      "metadata": {
        "id": "qSaL_FsY_fz7",
        "outputId": "a76fe27a-67d8-49ff-90fa-eaee2a291b03"
      },
      "source": [
        "# размер полученной матрицы"
      ],
      "execution_count": null,
      "outputs": [
        {
          "output_type": "execute_result",
          "data": {
            "text/plain": [
              "(5, 1)"
            ]
          },
          "metadata": {
            "tags": []
          },
          "execution_count": 23
        }
      ]
    },
    {
      "cell_type": "markdown",
      "metadata": {
        "id": "EOnUyJpA_fz8"
      },
      "source": [
        "Проверьте, что будет, если этот столбец вычесть из какой-нибудь матрицы размерности (5, 3)? Как numpy вычитает столбец из матрицы?"
      ]
    },
    {
      "cell_type": "code",
      "metadata": {
        "id": "AFXWpB3C_fz9",
        "outputId": "abe7d7b5-282d-4f65-b906-c72002f0e360"
      },
      "source": [
        "np.arange(15).reshape(5,3) - arr_reshaped"
      ],
      "execution_count": null,
      "outputs": [
        {
          "output_type": "execute_result",
          "data": {
            "text/plain": [
              "array([[ -2,  -1,   0],\n",
              "       [ -1,   0,   1],\n",
              "       [  1,   2,   3],\n",
              "       [  2,   3,   4],\n",
              "       [-88, -87, -86]])"
            ]
          },
          "metadata": {
            "tags": []
          },
          "execution_count": 24
        }
      ]
    },
    {
      "cell_type": "markdown",
      "metadata": {
        "id": "0wGwNwjk_fz-"
      },
      "source": [
        "**Задание 14** (2 балла)\n",
        "\n",
        "Найдите средние значения по строкам у созданной в 12-м задании матрицы ```random_array```. Вычтите полученные средния значения из соответствующих строк изначальной матрицы ```random_array```. Проверьте, что после вычитания средних среднее по каждой строке стало равно 0\n",
        "\n",
        "**Подсказка:** используйте для этого задания знания из задания 13 и вспомните, что в numpy из матрицы можно вычитать другую матрицу даже с меньшим числом колонок"
      ]
    },
    {
      "cell_type": "code",
      "metadata": {
        "id": "ceUUsYfF_fz_"
      },
      "source": [
        ""
      ],
      "execution_count": null,
      "outputs": []
    },
    {
      "cell_type": "markdown",
      "metadata": {
        "id": "dkYCUvQB_fz_"
      },
      "source": [
        "**Примечание:** умение numpy догадываться о том, как можно прибавлять число к вектору/число к матрице/вектор к матрице и прочие подобные операции, называется ```broadcasting```. То есть numpy растягивает массивы меньшей размерности до массива большей размерности, чтобы у них стали одинаковые размерности, по особым правилам, которые позволяют довольно интуитивно вычесть строку из матрицы, и эта строка вычтется из каждой строки матрицы. Почитать об этом подробнее можно [здесь](https://numpy.org/doc/stable/user/basics.broadcasting.html) и[здесь](https://machinelearningmastery.com/broadcasting-with-numpy-arrays/) . \n",
        "\n",
        "А вот еще и гаглядные картинки, которые показывают, как работает broadcasting\n",
        "\n",
        "![](https://www.tutorialspoint.com/numpy/images/array.jpg)\n",
        "![](https://jakevdp.github.io/PythonDataScienceHandbook/figures/02.05-broadcasting.png)\n",
        "![](https://i.stack.imgur.com/JcKv1.png)"
      ]
    },
    {
      "cell_type": "markdown",
      "metadata": {
        "id": "s-Hs2bSY_f0B"
      },
      "source": [
        "### Метематические вычисления в Numpy\n",
        "\n",
        "**Задание 15** (3 балла)\n",
        "\n",
        "Запрограммируйте вычисление следующей формулы с помощью numpy:\n",
        "\n",
        "$$\n",
        "y = x + 2\\sqrt{x} + 8 \\cos (\\frac{x^2}{5})\n",
        "$$\n",
        "\n",
        "И постройте ее график.\n",
        "\n",
        "Справочник по математическим функциям в Numpy: https://numpy.org/doc/stable/reference/routines.math.html\n",
        "\n",
        "Помните, что операции над массивами в Numpу поэлементные, а значит, вы можете просто писать формулу для одной переменной, и Numpy применит ее ко всем элементам numpy-array"
      ]
    },
    {
      "cell_type": "code",
      "metadata": {
        "id": "LzvaZ47V_f0C"
      },
      "source": [
        "x = np.linspace(0, 10, 100)\n",
        "# y = "
      ],
      "execution_count": null,
      "outputs": []
    },
    {
      "cell_type": "code",
      "metadata": {
        "id": "khnKA6-u_f0D",
        "outputId": "6244ee4a-4e3d-43f0-9254-2e71c1f785f2"
      },
      "source": [
        "from matplotlib import pyplot as plt\n",
        "\n",
        "plt.plot(x, y)\n",
        "plt.show()"
      ],
      "execution_count": null,
      "outputs": [
        {
          "output_type": "display_data",
          "data": {
            "image/png": "[encoded data removed]",
            "text/plain": [
              "<Figure size 432x288 with 1 Axes>"
            ]
          },
          "metadata": {
            "tags": [],
            "needs_background": "light"
          }
        }
      ]
    },
    {
      "cell_type": "markdown",
      "metadata": {
        "id": "k2fLAEw3_f0E"
      },
      "source": [
        ""
      ]
    },
    {
      "cell_type": "markdown",
      "metadata": {
        "id": "Z0RCtZfK_f0F"
      },
      "source": [
        "### Дополнительные материалы\n",
        "\n",
        "Для самых любознательных и тех, кто хочет еще порешать задачи, есть сборник \"100 заданий по Numpy\": https://www.machinelearningplus.com/python/101-numpy-exercises-python/\n",
        "\n",
        "Для тех, кому нужно руководство по матричным операциям в Numpy: https://www.programiz.com/python-programming/matrix"
      ]
    },
    {
      "cell_type": "code",
      "metadata": {
        "id": "sXAECGV2_f0G"
      },
      "source": [
        ""
      ],
      "execution_count": null,
      "outputs": []
    }
  ]
}