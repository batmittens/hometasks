{
  "nbformat": 4,
  "nbformat_minor": 0,
  "metadata": {
    "kernelspec": {
      "display_name": "jupyter-env",
      "language": "python",
      "name": "jupyter-env"
    },
    "language_info": {
      "codemirror_mode": {
        "name": "ipython",
        "version": 3
      },
      "file_extension": ".py",
      "mimetype": "text/x-python",
      "name": "python",
      "nbconvert_exporter": "python",
      "pygments_lexer": "ipython3",
      "version": "3.8.7"
    },
    "colab": {
      "name": "Щекочихина_Анастасия_hw02_intro_to_pandas.ipynb",
      "provenance": []
    }
  },
  "cells": [
    {
      "cell_type": "markdown",
      "metadata": {
        "id": "teBkt-adweiT"
      },
      "source": [
        "## Домашнее задание 2. Знакомство с Pandas\n",
        "***Не оцениваются задания с удаленными/исправленными/закоменченными формулировками. Лучше всего ячейки с заданием не трогать, а создавать новые для своих экспериментов.***\n",
        "\n",
        "Результат выполненной работы − отчет. Мы предпочитаем принимать отчеты в формате ноутбуков Jupyter (ipynb-файл). Постарайтесь сделать ваш отчет интересным рассказом, последовательно отвечающим на вопросы из заданий. Помимо ответов на вопросы, в отчете так же должен быть код, однако чем меньше кода, тем лучше всем: нам − меньше проверять, вам —  проще найти ошибку или дополнить эксперимент. При проверке оценивается четкость ответов на вопросы, аккуратность отчета и кода.\n",
        "\n",
        "### О задании\n",
        "\n",
        "Домашнее задание 2 направлено на работу с пакетом Pandas путём решения набора задач. В данном задании разрешено пользоваться только стандартной библиотекой языка Python, а также пакетом Pandas. Целью задания является дополнение данного jupyter notebook-a таким образом, чтобы были реализованы указанные в задании функции. Ответы на вопросы и свои мысли оформляйте в отдельных ячейках **Markdown**.\n",
        "\n",
        "### Оценивание и штрафы\n",
        "\n",
        "* Каждая из задач имеет определенную «стоимость» (указана в скобках около задачи)\n",
        "* Максимум за работу можно набрать 11 баллов, а **максимальная оценка за работу - 10 баллов**. То есть полный балл за работу можно набрать решив лишь часть заданий\n",
        "* Сдавать задание после указанного срока сдачи нельзя\n",
        "* «Похожие» решения считаются плагиатом и все задействованные студенты (в том числе те, у кого списали) не могут получить за него больше 0 баллов.\n",
        "* Если вы нашли решение какого-то из заданий в открытом источнике, необходимо прислать ссылку на этот источник (скорее всего вы будете не единственным, кто это нашел, поэтому чтобы исключить подозрение в плагиате, необходима ссылка на источник)\n",
        "* Не оцениваются задания с удалёнными формулировкам\n",
        "* Не оценивается лабораторная работа целиком, если она была выложена в открытый источник\n",
        "\n",
        "###  Правила сдачи\n",
        "\n",
        "Работу необходимо отправить в систему ЦДПО МФТИ в соответствующее задание на странице курса.\n",
        "**Дедлайн: 18 апреля 23:59. После этого времени работы не принимаются.**"
      ]
    },
    {
      "cell_type": "markdown",
      "metadata": {
        "id": "L1ADsAlvweig"
      },
      "source": [
        "### Примечание\n",
        "\n",
        "В заданиях вам даны подсказки по выполнению. А также вам оставлен вывод работы кода авторского решения - вы можете смотреть на этот вывод и понимать, в правильном ли направлении вы движетесь при выполнении задания."
      ]
    },
    {
      "cell_type": "markdown",
      "metadata": {
        "id": "1fhs6p2Kweih"
      },
      "source": [
        "# Аналитика данных с Pandas "
      ]
    },
    {
      "cell_type": "markdown",
      "metadata": {
        "id": "kKSrnpDXweii"
      },
      "source": [
        "Загрузите таблицу с данными из ```articles.csv``` (для этого положите файл в ту же папку, в которой лежит этот Jupyter ноутбук и воспользуйтесь фукцией ```read_csv```)\n"
      ]
    },
    {
      "cell_type": "code",
      "metadata": {
        "colab": {
          "resources": {
            "http://localhost:8080/nbextensions/google.colab/files.js": {
              "data": "Ly8gQ29weXJpZ2h0IDIwMTcgR29vZ2xlIExMQwovLwovLyBMaWNlbnNlZCB1bmRlciB0aGUgQXBhY2hlIExpY2Vuc2UsIFZlcnNpb24gMi4wICh0aGUgIkxpY2Vuc2UiKTsKLy8geW91IG1heSBub3QgdXNlIHRoaXMgZmlsZSBleGNlcHQgaW4gY29tcGxpYW5jZSB3aXRoIHRoZSBMaWNlbnNlLgovLyBZb3UgbWF5IG9idGFpbiBhIGNvcHkgb2YgdGhlIExpY2Vuc2UgYXQKLy8KLy8gICAgICBodHRwOi8vd3d3LmFwYWNoZS5vcmcvbGljZW5zZXMvTElDRU5TRS0yLjAKLy8KLy8gVW5sZXNzIHJlcXVpcmVkIGJ5IGFwcGxpY2FibGUgbGF3IG9yIGFncmVlZCB0byBpbiB3cml0aW5nLCBzb2Z0d2FyZQovLyBkaXN0cmlidXRlZCB1bmRlciB0aGUgTGljZW5zZSBpcyBkaXN0cmlidXRlZCBvbiBhbiAiQVMgSVMiIEJBU0lTLAovLyBXSVRIT1VUIFdBUlJBTlRJRVMgT1IgQ09ORElUSU9OUyBPRiBBTlkgS0lORCwgZWl0aGVyIGV4cHJlc3Mgb3IgaW1wbGllZC4KLy8gU2VlIHRoZSBMaWNlbnNlIGZvciB0aGUgc3BlY2lmaWMgbGFuZ3VhZ2UgZ292ZXJuaW5nIHBlcm1pc3Npb25zIGFuZAovLyBsaW1pdGF0aW9ucyB1bmRlciB0aGUgTGljZW5zZS4KCi8qKgogKiBAZmlsZW92ZXJ2aWV3IEhlbHBlcnMgZm9yIGdvb2dsZS5jb2xhYiBQeXRob24gbW9kdWxlLgogKi8KKGZ1bmN0aW9uKHNjb3BlKSB7CmZ1bmN0aW9uIHNwYW4odGV4dCwgc3R5bGVBdHRyaWJ1dGVzID0ge30pIHsKICBjb25zdCBlbGVtZW50ID0gZG9jdW1lbnQuY3JlYXRlRWxlbWVudCgnc3BhbicpOwogIGVsZW1lbnQudGV4dENvbnRlbnQgPSB0ZXh0OwogIGZvciAoY29uc3Qga2V5IG9mIE9iamVjdC5rZXlzKHN0eWxlQXR0cmlidXRlcykpIHsKICAgIGVsZW1lbnQuc3R5bGVba2V5XSA9IHN0eWxlQXR0cmlidXRlc1trZXldOwogIH0KICByZXR1cm4gZWxlbWVudDsKfQoKLy8gTWF4IG51bWJlciBvZiBieXRlcyB3aGljaCB3aWxsIGJlIHVwbG9hZGVkIGF0IGEgdGltZS4KY29uc3QgTUFYX1BBWUxPQURfU0laRSA9IDEwMCAqIDEwMjQ7CgpmdW5jdGlvbiBfdXBsb2FkRmlsZXMoaW5wdXRJZCwgb3V0cHV0SWQpIHsKICBjb25zdCBzdGVwcyA9IHVwbG9hZEZpbGVzU3RlcChpbnB1dElkLCBvdXRwdXRJZCk7CiAgY29uc3Qgb3V0cHV0RWxlbWVudCA9IGRvY3VtZW50LmdldEVsZW1lbnRCeUlkKG91dHB1dElkKTsKICAvLyBDYWNoZSBzdGVwcyBvbiB0aGUgb3V0cHV0RWxlbWVudCB0byBtYWtlIGl0IGF2YWlsYWJsZSBmb3IgdGhlIG5leHQgY2FsbAogIC8vIHRvIHVwbG9hZEZpbGVzQ29udGludWUgZnJvbSBQeXRob24uCiAgb3V0cHV0RWxlbWVudC5zdGVwcyA9IHN0ZXBzOwoKICByZXR1cm4gX3VwbG9hZEZpbGVzQ29udGludWUob3V0cHV0SWQpOwp9CgovLyBUaGlzIGlzIHJvdWdobHkgYW4gYXN5bmMgZ2VuZXJhdG9yIChub3Qgc3VwcG9ydGVkIGluIHRoZSBicm93c2VyIHlldCksCi8vIHdoZXJlIHRoZXJlIGFyZSBtdWx0aXBsZSBhc3luY2hyb25vdXMgc3RlcHMgYW5kIHRoZSBQeXRob24gc2lkZSBpcyBnb2luZwovLyB0byBwb2xsIGZvciBjb21wbGV0aW9uIG9mIGVhY2ggc3RlcC4KLy8gVGhpcyB1c2VzIGEgUHJvbWlzZSB0byBibG9jayB0aGUgcHl0aG9uIHNpZGUgb24gY29tcGxldGlvbiBvZiBlYWNoIHN0ZXAsCi8vIHRoZW4gcGFzc2VzIHRoZSByZXN1bHQgb2YgdGhlIHByZXZpb3VzIHN0ZXAgYXMgdGhlIGlucHV0IHRvIHRoZSBuZXh0IHN0ZXAuCmZ1bmN0aW9uIF91cGxvYWRGaWxlc0NvbnRpbnVlKG91dHB1dElkKSB7CiAgY29uc3Qgb3V0cHV0RWxlbWVudCA9IGRvY3VtZW50LmdldEVsZW1lbnRCeUlkKG91dHB1dElkKTsKICBjb25zdCBzdGVwcyA9IG91dHB1dEVsZW1lbnQuc3RlcHM7CgogIGNvbnN0IG5leHQgPSBzdGVwcy5uZXh0KG91dHB1dEVsZW1lbnQubGFzdFByb21pc2VWYWx1ZSk7CiAgcmV0dXJuIFByb21pc2UucmVzb2x2ZShuZXh0LnZhbHVlLnByb21pc2UpLnRoZW4oKHZhbHVlKSA9PiB7CiAgICAvLyBDYWNoZSB0aGUgbGFzdCBwcm9taXNlIHZhbHVlIHRvIG1ha2UgaXQgYXZhaWxhYmxlIHRvIHRoZSBuZXh0CiAgICAvLyBzdGVwIG9mIHRoZSBnZW5lcmF0b3IuCiAgICBvdXRwdXRFbGVtZW50Lmxhc3RQcm9taXNlVmFsdWUgPSB2YWx1ZTsKICAgIHJldHVybiBuZXh0LnZhbHVlLnJlc3BvbnNlOwogIH0pOwp9CgovKioKICogR2VuZXJhdG9yIGZ1bmN0aW9uIHdoaWNoIGlzIGNhbGxlZCBiZXR3ZWVuIGVhY2ggYXN5bmMgc3RlcCBvZiB0aGUgdXBsb2FkCiAqIHByb2Nlc3MuCiAqIEBwYXJhbSB7c3RyaW5nfSBpbnB1dElkIEVsZW1lbnQgSUQgb2YgdGhlIGlucHV0IGZpbGUgcGlja2VyIGVsZW1lbnQuCiAqIEBwYXJhbSB7c3RyaW5nfSBvdXRwdXRJZCBFbGVtZW50IElEIG9mIHRoZSBvdXRwdXQgZGlzcGxheS4KICogQHJldHVybiB7IUl0ZXJhYmxlPCFPYmplY3Q+fSBJdGVyYWJsZSBvZiBuZXh0IHN0ZXBzLgogKi8KZnVuY3Rpb24qIHVwbG9hZEZpbGVzU3RlcChpbnB1dElkLCBvdXRwdXRJZCkgewogIGNvbnN0IGlucHV0RWxlbWVudCA9IGRvY3VtZW50LmdldEVsZW1lbnRCeUlkKGlucHV0SWQpOwogIGlucHV0RWxlbWVudC5kaXNhYmxlZCA9IGZhbHNlOwoKICBjb25zdCBvdXRwdXRFbGVtZW50ID0gZG9jdW1lbnQuZ2V0RWxlbWVudEJ5SWQob3V0cHV0SWQpOwogIG91dHB1dEVsZW1lbnQuaW5uZXJIVE1MID0gJyc7CgogIGNvbnN0IHBpY2tlZFByb21pc2UgPSBuZXcgUHJvbWlzZSgocmVzb2x2ZSkgPT4gewogICAgaW5wdXRFbGVtZW50LmFkZEV2ZW50TGlzdGVuZXIoJ2NoYW5nZScsIChlKSA9PiB7CiAgICAgIHJlc29sdmUoZS50YXJnZXQuZmlsZXMpOwogICAgfSk7CiAgfSk7CgogIGNvbnN0IGNhbmNlbCA9IGRvY3VtZW50LmNyZWF0ZUVsZW1lbnQoJ2J1dHRvbicpOwogIGlucHV0RWxlbWVudC5wYXJlbnRFbGVtZW50LmFwcGVuZENoaWxkKGNhbmNlbCk7CiAgY2FuY2VsLnRleHRDb250ZW50ID0gJ0NhbmNlbCB1cGxvYWQnOwogIGNvbnN0IGNhbmNlbFByb21pc2UgPSBuZXcgUHJvbWlzZSgocmVzb2x2ZSkgPT4gewogICAgY2FuY2VsLm9uY2xpY2sgPSAoKSA9PiB7CiAgICAgIHJlc29sdmUobnVsbCk7CiAgICB9OwogIH0pOwoKICAvLyBXYWl0IGZvciB0aGUgdXNlciB0byBwaWNrIHRoZSBmaWxlcy4KICBjb25zdCBmaWxlcyA9IHlpZWxkIHsKICAgIHByb21pc2U6IFByb21pc2UucmFjZShbcGlja2VkUHJvbWlzZSwgY2FuY2VsUHJvbWlzZV0pLAogICAgcmVzcG9uc2U6IHsKICAgICAgYWN0aW9uOiAnc3RhcnRpbmcnLAogICAgfQogIH07CgogIGNhbmNlbC5yZW1vdmUoKTsKCiAgLy8gRGlzYWJsZSB0aGUgaW5wdXQgZWxlbWVudCBzaW5jZSBmdXJ0aGVyIHBpY2tzIGFyZSBub3QgYWxsb3dlZC4KICBpbnB1dEVsZW1lbnQuZGlzYWJsZWQgPSB0cnVlOwoKICBpZiAoIWZpbGVzKSB7CiAgICByZXR1cm4gewogICAgICByZXNwb25zZTogewogICAgICAgIGFjdGlvbjogJ2NvbXBsZXRlJywKICAgICAgfQogICAgfTsKICB9CgogIGZvciAoY29uc3QgZmlsZSBvZiBmaWxlcykgewogICAgY29uc3QgbGkgPSBkb2N1bWVudC5jcmVhdGVFbGVtZW50KCdsaScpOwogICAgbGkuYXBwZW5kKHNwYW4oZmlsZS5uYW1lLCB7Zm9udFdlaWdodDogJ2JvbGQnfSkpOwogICAgbGkuYXBwZW5kKHNwYW4oCiAgICAgICAgYCgke2ZpbGUudHlwZSB8fCAnbi9hJ30pIC0gJHtmaWxlLnNpemV9IGJ5dGVzLCBgICsKICAgICAgICBgbGFzdCBtb2RpZmllZDogJHsKICAgICAgICAgICAgZmlsZS5sYXN0TW9kaWZpZWREYXRlID8gZmlsZS5sYXN0TW9kaWZpZWREYXRlLnRvTG9jYWxlRGF0ZVN0cmluZygpIDoKICAgICAgICAgICAgICAgICAgICAgICAgICAgICAgICAgICAgJ24vYSd9IC0gYCkpOwogICAgY29uc3QgcGVyY2VudCA9IHNwYW4oJzAlIGRvbmUnKTsKICAgIGxpLmFwcGVuZENoaWxkKHBlcmNlbnQpOwoKICAgIG91dHB1dEVsZW1lbnQuYXBwZW5kQ2hpbGQobGkpOwoKICAgIGNvbnN0IGZpbGVEYXRhUHJvbWlzZSA9IG5ldyBQcm9taXNlKChyZXNvbHZlKSA9PiB7CiAgICAgIGNvbnN0IHJlYWRlciA9IG5ldyBGaWxlUmVhZGVyKCk7CiAgICAgIHJlYWRlci5vbmxvYWQgPSAoZSkgPT4gewogICAgICAgIHJlc29sdmUoZS50YXJnZXQucmVzdWx0KTsKICAgICAgfTsKICAgICAgcmVhZGVyLnJlYWRBc0FycmF5QnVmZmVyKGZpbGUpOwogICAgfSk7CiAgICAvLyBXYWl0IGZvciB0aGUgZGF0YSB0byBiZSByZWFkeS4KICAgIGxldCBmaWxlRGF0YSA9IHlpZWxkIHsKICAgICAgcHJvbWlzZTogZmlsZURhdGFQcm9taXNlLAogICAgICByZXNwb25zZTogewogICAgICAgIGFjdGlvbjogJ2NvbnRpbnVlJywKICAgICAgfQogICAgfTsKCiAgICAvLyBVc2UgYSBjaHVua2VkIHNlbmRpbmcgdG8gYXZvaWQgbWVzc2FnZSBzaXplIGxpbWl0cy4gU2VlIGIvNjIxMTU2NjAuCiAgICBsZXQgcG9zaXRpb24gPSAwOwogICAgd2hpbGUgKHBvc2l0aW9uIDwgZmlsZURhdGEuYnl0ZUxlbmd0aCkgewogICAgICBjb25zdCBsZW5ndGggPSBNYXRoLm1pbihmaWxlRGF0YS5ieXRlTGVuZ3RoIC0gcG9zaXRpb24sIE1BWF9QQVlMT0FEX1NJWkUpOwogICAgICBjb25zdCBjaHVuayA9IG5ldyBVaW50OEFycmF5KGZpbGVEYXRhLCBwb3NpdGlvbiwgbGVuZ3RoKTsKICAgICAgcG9zaXRpb24gKz0gbGVuZ3RoOwoKICAgICAgY29uc3QgYmFzZTY0ID0gYnRvYShTdHJpbmcuZnJvbUNoYXJDb2RlLmFwcGx5KG51bGwsIGNodW5rKSk7CiAgICAgIHlpZWxkIHsKICAgICAgICByZXNwb25zZTogewogICAgICAgICAgYWN0aW9uOiAnYXBwZW5kJywKICAgICAgICAgIGZpbGU6IGZpbGUubmFtZSwKICAgICAgICAgIGRhdGE6IGJhc2U2NCwKICAgICAgICB9LAogICAgICB9OwogICAgICBwZXJjZW50LnRleHRDb250ZW50ID0KICAgICAgICAgIGAke01hdGgucm91bmQoKHBvc2l0aW9uIC8gZmlsZURhdGEuYnl0ZUxlbmd0aCkgKiAxMDApfSUgZG9uZWA7CiAgICB9CiAgfQoKICAvLyBBbGwgZG9uZS4KICB5aWVsZCB7CiAgICByZXNwb25zZTogewogICAgICBhY3Rpb246ICdjb21wbGV0ZScsCiAgICB9CiAgfTsKfQoKc2NvcGUuZ29vZ2xlID0gc2NvcGUuZ29vZ2xlIHx8IHt9OwpzY29wZS5nb29nbGUuY29sYWIgPSBzY29wZS5nb29nbGUuY29sYWIgfHwge307CnNjb3BlLmdvb2dsZS5jb2xhYi5fZmlsZXMgPSB7CiAgX3VwbG9hZEZpbGVzLAogIF91cGxvYWRGaWxlc0NvbnRpbnVlLAp9Owp9KShzZWxmKTsK",
              "ok": true,
              "headers": [
                [
                  "content-type",
                  "application/javascript"
                ]
              ],
              "status": 200,
              "status_text": ""
            }
          },
          "base_uri": "https://localhost:8080/",
          "height": 73
        },
        "id": "mzHf36irw2-Y",
        "outputId": "3fb72d66-dde6-4700-bb31-ae1a8e2a6294"
      },
      "source": [
        "from google.colab import files\n",
        "files.upload()"
      ],
      "execution_count": 1,
      "outputs": [
        {
          "output_type": "display_data",
          "data": {
            "text/html": [
              "\n",
              "     <input type=\"file\" id=\"files-1c76df75-0650-45c0-8f17-33041649a49d\" name=\"files[]\" multiple disabled\n",
              "        style=\"border:none\" />\n",
              "     <output id=\"result-1c76df75-0650-45c0-8f17-33041649a49d\">\n",
              "      Upload widget is only available when the cell has been executed in the\n",
              "      current browser session. Please rerun this cell to enable.\n",
              "      </output>\n",
              "      <script src=\"/nbextensions/google.colab/files.js\"></script> "
            ],
            "text/plain": [
              "<IPython.core.display.HTML object>"
            ]
          },
          "metadata": {
            "tags": []
          }
        },
        {
          "output_type": "stream",
          "text": [
            "Saving articles.csv to articles.csv\n"
          ],
          "name": "stdout"
        }
      ]
    },
    {
      "cell_type": "code",
      "metadata": {
        "id": "FaBdbXdqweij"
      },
      "source": [
        "import pandas as pd\n",
        "df = pd.read_csv('articles.csv')"
      ],
      "execution_count": 93,
      "outputs": []
    },
    {
      "cell_type": "markdown",
      "metadata": {
        "id": "aa3AsMcIweik"
      },
      "source": [
        "Посмотрите на первые 5 строк датафрейма (метод ```head```)"
      ]
    },
    {
      "cell_type": "code",
      "metadata": {
        "colab": {
          "base_uri": "https://localhost:8080/",
          "height": 289
        },
        "id": "AdruEaxVweik",
        "outputId": "c8729c8a-4bad-4e08-996c-6b3b0ad0ca07"
      },
      "source": [
        "df.head()"
      ],
      "execution_count": 3,
      "outputs": [
        {
          "output_type": "execute_result",
          "data": {
            "text/html": [
              "<div>\n",
              "<style scoped>\n",
              "    .dataframe tbody tr th:only-of-type {\n",
              "        vertical-align: middle;\n",
              "    }\n",
              "\n",
              "    .dataframe tbody tr th {\n",
              "        vertical-align: top;\n",
              "    }\n",
              "\n",
              "    .dataframe thead th {\n",
              "        text-align: right;\n",
              "    }\n",
              "</style>\n",
              "<table border=\"1\" class=\"dataframe\">\n",
              "  <thead>\n",
              "    <tr style=\"text-align: right;\">\n",
              "      <th></th>\n",
              "      <th>id</th>\n",
              "      <th>title</th>\n",
              "      <th>publication</th>\n",
              "      <th>author</th>\n",
              "      <th>date</th>\n",
              "      <th>year</th>\n",
              "      <th>month</th>\n",
              "      <th>content</th>\n",
              "    </tr>\n",
              "  </thead>\n",
              "  <tbody>\n",
              "    <tr>\n",
              "      <th>0</th>\n",
              "      <td>17283</td>\n",
              "      <td>House Republicans Fret About Winning Their Hea...</td>\n",
              "      <td>New York Times</td>\n",
              "      <td>Carl Hulse</td>\n",
              "      <td>2016-12-31</td>\n",
              "      <td>2016</td>\n",
              "      <td>12</td>\n",
              "      <td>WASHINGTON  —   Congressional Republicans have...</td>\n",
              "    </tr>\n",
              "    <tr>\n",
              "      <th>1</th>\n",
              "      <td>17284</td>\n",
              "      <td>Rift Between Officers and Residents as Killing...</td>\n",
              "      <td>New York Times</td>\n",
              "      <td>Benjamin Mueller and Al Baker</td>\n",
              "      <td>2017-06-19</td>\n",
              "      <td>2017</td>\n",
              "      <td>6</td>\n",
              "      <td>After the bullet shells get counted, the blood...</td>\n",
              "    </tr>\n",
              "    <tr>\n",
              "      <th>2</th>\n",
              "      <td>17285</td>\n",
              "      <td>Tyrus Wong, ‘Bambi’ Artist Thwarted by Racial ...</td>\n",
              "      <td>New York Times</td>\n",
              "      <td>Margalit Fox</td>\n",
              "      <td>2017-01-06</td>\n",
              "      <td>2017</td>\n",
              "      <td>1</td>\n",
              "      <td>When Walt Disney’s “Bambi” opened in 1942, cri...</td>\n",
              "    </tr>\n",
              "    <tr>\n",
              "      <th>3</th>\n",
              "      <td>17286</td>\n",
              "      <td>Among Deaths in 2016, a Heavy Toll in Pop Musi...</td>\n",
              "      <td>New York Times</td>\n",
              "      <td>William McDonald</td>\n",
              "      <td>2017-04-10</td>\n",
              "      <td>2017</td>\n",
              "      <td>4</td>\n",
              "      <td>Death may be the great equalizer, but it isn’t...</td>\n",
              "    </tr>\n",
              "    <tr>\n",
              "      <th>4</th>\n",
              "      <td>17287</td>\n",
              "      <td>Kim Jong-un Says North Korea Is Preparing to T...</td>\n",
              "      <td>New York Times</td>\n",
              "      <td>Choe Sang-Hun</td>\n",
              "      <td>2017-01-02</td>\n",
              "      <td>2017</td>\n",
              "      <td>1</td>\n",
              "      <td>SEOUL, South Korea  —   North Korea’s leader, ...</td>\n",
              "    </tr>\n",
              "  </tbody>\n",
              "</table>\n",
              "</div>"
            ],
            "text/plain": [
              "      id  ...                                            content\n",
              "0  17283  ...  WASHINGTON  —   Congressional Republicans have...\n",
              "1  17284  ...  After the bullet shells get counted, the blood...\n",
              "2  17285  ...  When Walt Disney’s “Bambi” opened in 1942, cri...\n",
              "3  17286  ...  Death may be the great equalizer, but it isn’t...\n",
              "4  17287  ...  SEOUL, South Korea  —   North Korea’s leader, ...\n",
              "\n",
              "[5 rows x 8 columns]"
            ]
          },
          "metadata": {
            "tags": []
          },
          "execution_count": 3
        }
      ]
    },
    {
      "cell_type": "markdown",
      "metadata": {
        "id": "GqSzHG3tweim"
      },
      "source": [
        "Определите количество строк и столбцов в датафрейме (атрибут `shape`)"
      ]
    },
    {
      "cell_type": "code",
      "metadata": {
        "colab": {
          "base_uri": "https://localhost:8080/"
        },
        "id": "sFlhh2Ohwein",
        "outputId": "e628ccfa-428b-4447-a82e-3e2650827d97"
      },
      "source": [
        "df.shape"
      ],
      "execution_count": 4,
      "outputs": [
        {
          "output_type": "execute_result",
          "data": {
            "text/plain": [
              "(50000, 8)"
            ]
          },
          "metadata": {
            "tags": []
          },
          "execution_count": 4
        }
      ]
    },
    {
      "cell_type": "markdown",
      "metadata": {
        "id": "a_ZJxkHVweio"
      },
      "source": [
        "Посмотрите, в каких столбцах есть пропуски (используйте методы ```isnull``` и ```sum```)"
      ]
    },
    {
      "cell_type": "code",
      "metadata": {
        "colab": {
          "base_uri": "https://localhost:8080/"
        },
        "id": "edbYKZWAweio",
        "outputId": "fbcca1fb-95af-4c9e-b32b-5ef5c15a4f24"
      },
      "source": [
        "df.isnull().sum()"
      ],
      "execution_count": 5,
      "outputs": [
        {
          "output_type": "execute_result",
          "data": {
            "text/plain": [
              "id                0\n",
              "title             0\n",
              "publication       0\n",
              "author         6306\n",
              "date              0\n",
              "year              0\n",
              "month             0\n",
              "content           0\n",
              "dtype: int64"
            ]
          },
          "metadata": {
            "tags": []
          },
          "execution_count": 5
        }
      ]
    },
    {
      "cell_type": "markdown",
      "metadata": {
        "id": "BKXkXWbnweip"
      },
      "source": [
        "Видим, что в колонке ```author``` есть пропуски. \n",
        "\n",
        "Посчитайте, какая доля пропусков содержится в этой колонке (используйте методы ```isnull``` и ```mean```)"
      ]
    },
    {
      "cell_type": "code",
      "metadata": {
        "colab": {
          "base_uri": "https://localhost:8080/"
        },
        "id": "-M85EBEPweip",
        "outputId": "ede2ca8b-55be-4cd2-f3cb-e4e45e0312b9"
      },
      "source": [
        "df.author.isnull().mean()"
      ],
      "execution_count": 6,
      "outputs": [
        {
          "output_type": "execute_result",
          "data": {
            "text/plain": [
              "0.12612"
            ]
          },
          "metadata": {
            "tags": []
          },
          "execution_count": 6
        }
      ]
    },
    {
      "cell_type": "markdown",
      "metadata": {
        "id": "729u7xZUweiq"
      },
      "source": [
        "Видим, что в колонке ```author``` 12% пропусков. Давайте удалим те строки, в которых пропущено значение в колонке ```author```"
      ]
    },
    {
      "cell_type": "markdown",
      "metadata": {
        "id": "6MYWsz6Oweiq"
      },
      "source": [
        "Для этого используйте функцию ```dropna```, которой в качестве аргумента можно передать параметр ```axis```, чтобы удалить строки или столбцы с пропусками.\n",
        "\n",
        "Не забудьте, что чтобы сохранить результат удаления строк, нужно либо перезаписать датафрейм (```df = df.same_method()```), либо выставить в методе ```dropna``` параметр ```inplace=True```, который говорит о том, что операция будет производиться \"на месте\", то есть над самим объектом датафрейма, а не с его копией\n"
      ]
    },
    {
      "cell_type": "code",
      "metadata": {
        "id": "PsNwIvYuweir"
      },
      "source": [
        "df.dropna(axis=0, inplace=True)"
      ],
      "execution_count": 94,
      "outputs": []
    },
    {
      "cell_type": "markdown",
      "metadata": {
        "id": "s87A9MhYweir"
      },
      "source": [
        "Проверим размер датафрейма после удаления пропусков и убедимся, что в датафрейме теперь нет пропусков в данных"
      ]
    },
    {
      "cell_type": "code",
      "metadata": {
        "colab": {
          "base_uri": "https://localhost:8080/"
        },
        "id": "730pHNF3weis",
        "outputId": "6d3c603a-cda2-4bc5-c3a8-78216f655b06"
      },
      "source": [
        "df.shape"
      ],
      "execution_count": 67,
      "outputs": [
        {
          "output_type": "execute_result",
          "data": {
            "text/plain": [
              "(43694, 8)"
            ]
          },
          "metadata": {
            "tags": []
          },
          "execution_count": 67
        }
      ]
    },
    {
      "cell_type": "code",
      "metadata": {
        "colab": {
          "base_uri": "https://localhost:8080/"
        },
        "id": "fq8mQUB6weis",
        "outputId": "d8d27d9f-9e23-465f-e14a-13bdf03420f4"
      },
      "source": [
        "df.isnull().sum()"
      ],
      "execution_count": 9,
      "outputs": [
        {
          "output_type": "execute_result",
          "data": {
            "text/plain": [
              "id             0\n",
              "title          0\n",
              "publication    0\n",
              "author         0\n",
              "date           0\n",
              "year           0\n",
              "month          0\n",
              "content        0\n",
              "dtype: int64"
            ]
          },
          "metadata": {
            "tags": []
          },
          "execution_count": 9
        }
      ]
    },
    {
      "cell_type": "markdown",
      "metadata": {
        "id": "mALjf3tDweit"
      },
      "source": [
        "Проделайте следующие базовые операции с датафреймами:"
      ]
    },
    {
      "cell_type": "markdown",
      "metadata": {
        "id": "iVZGzqGWweit"
      },
      "source": [
        "**Задача 1 (1 балл)** определите количество различных издательств в таблице и их имена (используйте для этого методы датафрейма ```unique``` или ```nunique```)\n"
      ]
    },
    {
      "cell_type": "code",
      "metadata": {
        "colab": {
          "base_uri": "https://localhost:8080/"
        },
        "id": "3_8YS0gQweiu",
        "outputId": "5172574b-1576-4834-9153-03a24155a4e1"
      },
      "source": [
        "print(\"количество издательств:\", len(df[\"publication\"].unique()))"
      ],
      "execution_count": 10,
      "outputs": [
        {
          "output_type": "stream",
          "text": [
            "количество издательств: 5\n"
          ],
          "name": "stdout"
        }
      ]
    },
    {
      "cell_type": "code",
      "metadata": {
        "colab": {
          "base_uri": "https://localhost:8080/"
        },
        "id": "SWBSxV6Mweiu",
        "outputId": "f5b52ad1-d803-4b17-9121-3e5fc8649b08"
      },
      "source": [
        "df[\"publication\"].unique()"
      ],
      "execution_count": 13,
      "outputs": [
        {
          "output_type": "execute_result",
          "data": {
            "text/plain": [
              "array(['New York Times', 'Breitbart', 'CNN', 'Business Insider',\n",
              "       'Atlantic'], dtype=object)"
            ]
          },
          "metadata": {
            "tags": []
          },
          "execution_count": 13
        }
      ]
    },
    {
      "cell_type": "markdown",
      "metadata": {
        "id": "IaWhhPeQweiv"
      },
      "source": [
        "**Задача 2 (1 балл)** найдите количество опубликованных статей в отрезке с ```2016-06-03``` по ```2016-12-07``` (включая эти дни)\n",
        "\n",
        "Для этого используйте фильтрацию по условию. С датами можно обращаться просто как со строками.\n",
        "\n",
        "*Подсказка:* найдите строки c датой публикации ```>=``` стартовой даты и получите булеву маску. Аналогично получите булеву маску для второй даты. Затем с помощью операции ```&``` над двумя булевыми масками получите новый булев массив, в котором ```True``` будет стоять только у тех строк, у которых дата публикации попадает в желаемый отрезок. А затем используйте эту булеву маску как индексы датафрейма\n",
        "\n",
        "При желании это все можно написать одной строкой"
      ]
    },
    {
      "cell_type": "code",
      "metadata": {
        "colab": {
          "base_uri": "https://localhost:8080/"
        },
        "id": "Q39kDDF-WPLh",
        "outputId": "f5ed1e6e-7912-4523-cf5b-3cad6bfe08de"
      },
      "source": [
        "len(df[(df[\"date\"] >= \"2016-06-03\") & (df[\"date\"] <= \"2016-12-07\")])"
      ],
      "execution_count": 14,
      "outputs": [
        {
          "output_type": "execute_result",
          "data": {
            "text/plain": [
              "15079"
            ]
          },
          "metadata": {
            "tags": []
          },
          "execution_count": 14
        }
      ]
    },
    {
      "cell_type": "code",
      "metadata": {
        "id": "c-nIyDu2weiv",
        "outputId": "b19bd07b-ac19-4770-c243-5129760351f5"
      },
      "source": [
        ""
      ],
      "execution_count": null,
      "outputs": [
        {
          "output_type": "execute_result",
          "data": {
            "text/plain": [
              "15079"
            ]
          },
          "metadata": {
            "tags": []
          },
          "execution_count": 11
        }
      ]
    },
    {
      "cell_type": "markdown",
      "metadata": {
        "id": "YbdlLtdAweiw"
      },
      "source": [
        "**Задача 3 (1 балл)** Какое издание выпустило больше всего статей в 2016 году?"
      ]
    },
    {
      "cell_type": "code",
      "metadata": {
        "colab": {
          "base_uri": "https://localhost:8080/",
          "height": 35
        },
        "id": "hYugmCH7WheI",
        "outputId": "08f9f0e4-ea6c-4f12-adee-165ed732a94f"
      },
      "source": [
        "df[df[\"year\"] == 2016][\"publication\"].value_counts().idxmax()"
      ],
      "execution_count": 26,
      "outputs": [
        {
          "output_type": "execute_result",
          "data": {
            "application/vnd.google.colaboratory.intrinsic+json": {
              "type": "string"
            },
            "text/plain": [
              "'Breitbart'"
            ]
          },
          "metadata": {
            "tags": []
          },
          "execution_count": 26
        }
      ]
    },
    {
      "cell_type": "code",
      "metadata": {
        "id": "1Z87vZIbweiw",
        "outputId": "bb6d009c-c07c-43a5-f1bc-9ba663d129ea"
      },
      "source": [
        ""
      ],
      "execution_count": null,
      "outputs": [
        {
          "output_type": "execute_result",
          "data": {
            "text/plain": [
              "'Breitbart'"
            ]
          },
          "metadata": {
            "tags": []
          },
          "execution_count": 12
        }
      ]
    },
    {
      "cell_type": "markdown",
      "metadata": {
        "id": "HlFcfGXXweix"
      },
      "source": [
        "**Задача 4 (1 балл)** посчитайте количество статей автора *Tom Ciccotta* в каждом году\n",
        "\n",
        "Для этого сначала отберите строки, в которых автором является *Tom Ciccotta*, а затем создайте счетчик из столбца ```year``` (для этого просто позовите метод ```value_counts()``` от столбца ```year```)"
      ]
    },
    {
      "cell_type": "code",
      "metadata": {
        "colab": {
          "base_uri": "https://localhost:8080/"
        },
        "id": "Dpc7x3OvfD0K",
        "outputId": "04a79081-801d-4219-e61b-78d80c1a557f"
      },
      "source": [
        "df[df[\"author\"] == \"Tom Ciccotta\"][\"year\"].value_counts()"
      ],
      "execution_count": 28,
      "outputs": [
        {
          "output_type": "execute_result",
          "data": {
            "text/plain": [
              "2017    132\n",
              "2016    124\n",
              "Name: year, dtype: int64"
            ]
          },
          "metadata": {
            "tags": []
          },
          "execution_count": 28
        }
      ]
    },
    {
      "cell_type": "code",
      "metadata": {
        "id": "p83MD-Hpweix",
        "outputId": "0fa7f4d0-6575-48cd-b764-00d7345eff8c"
      },
      "source": [
        ""
      ],
      "execution_count": null,
      "outputs": [
        {
          "output_type": "execute_result",
          "data": {
            "text/plain": [
              "2017    132\n",
              "2016    124\n",
              "Name: year, dtype: int64"
            ]
          },
          "metadata": {
            "tags": []
          },
          "execution_count": 13
        }
      ]
    },
    {
      "cell_type": "markdown",
      "metadata": {
        "id": "dqKLgSo3weiy"
      },
      "source": [
        "**Задача 5 (2 балла)** выпишите названия 3х первых статей автора *John Hayward* в 2016 году\n",
        "\n",
        "*Подсказка:* после отбора статей по автору и году, не забудте отсортировать датафрейм по столбцу даты публикации.\n",
        "\n",
        "*Подсказка:* срезы по строкам датафреймов работают так же, как срезы по спискам"
      ]
    },
    {
      "cell_type": "code",
      "metadata": {
        "colab": {
          "base_uri": "https://localhost:8080/"
        },
        "id": "Xu_hswi3fbDM",
        "outputId": "d6da73f9-d5d5-4a8b-f79b-5cd2aeeda626"
      },
      "source": [
        "df[(df[\"author\"] == \"John Hayward\") & (df[\"year\"] == 2016)].sort_values(['date'])[\"title\"][:3]"
      ],
      "execution_count": 43,
      "outputs": [
        {
          "output_type": "execute_result",
          "data": {
            "text/plain": [
              "16861    Indonesian Couple Beaten with Canes for Violat...\n",
              "22041    Islamic State Claims Credit For Gun Attack On ...\n",
              "27561    Protests Across India Against Saudi Execution ...\n",
              "Name: title, dtype: object"
            ]
          },
          "metadata": {
            "tags": []
          },
          "execution_count": 43
        }
      ]
    },
    {
      "cell_type": "code",
      "metadata": {
        "id": "OmpKRs0nweiy",
        "outputId": "ac252da5-2db8-447c-9c19-aa0d7b0c0ee9"
      },
      "source": [
        ""
      ],
      "execution_count": null,
      "outputs": [
        {
          "output_type": "execute_result",
          "data": {
            "text/plain": [
              "array(['Indonesian Couple Beaten with Canes for Violating Sharia Law',\n",
              "       'Islamic State Claims Credit For Gun Attack On Russian Tourists',\n",
              "       'Protests Across India Against Saudi Execution of Shiite Cleric'],\n",
              "      dtype=object)"
            ]
          },
          "metadata": {
            "tags": []
          },
          "execution_count": 14
        }
      ]
    },
    {
      "cell_type": "markdown",
      "metadata": {
        "id": "VVCQ1l8tweiz"
      },
      "source": [
        "**Задача 6 (2 балла)** Какой автор на сотом месте по количеству опубликованных статей? Сколько статей он опубликовал?\n",
        "\n",
        "*Подсказка:* для подсчета встречаемости значений используйте метод ```value_counts```. Для доступа к индексам полученного после ```value_counts``` ```pd.Series``` используйте атрибут ```index```"
      ]
    },
    {
      "cell_type": "code",
      "metadata": {
        "colab": {
          "base_uri": "https://localhost:8080/",
          "height": 35
        },
        "id": "5ugrFEhom_wI",
        "outputId": "cae812b0-f598-4f16-faab-185c1ea6de63"
      },
      "source": [
        "df[\"author\"].value_counts().index[99]"
      ],
      "execution_count": 44,
      "outputs": [
        {
          "output_type": "execute_result",
          "data": {
            "application/vnd.google.colaboratory.intrinsic+json": {
              "type": "string"
            },
            "text/plain": [
              "'Milo'"
            ]
          },
          "metadata": {
            "tags": []
          },
          "execution_count": 44
        }
      ]
    },
    {
      "cell_type": "code",
      "metadata": {
        "id": "8Or_yoveweiz",
        "outputId": "325fe6d3-7b05-42ce-b369-b07872230b9a"
      },
      "source": [
        ""
      ],
      "execution_count": null,
      "outputs": [
        {
          "output_type": "execute_result",
          "data": {
            "text/plain": [
              "'Milo'"
            ]
          },
          "metadata": {
            "tags": []
          },
          "execution_count": 15
        }
      ]
    },
    {
      "cell_type": "markdown",
      "metadata": {
        "id": "dpy5XSlswei0"
      },
      "source": [
        "## Section_2"
      ]
    },
    {
      "cell_type": "markdown",
      "metadata": {
        "id": "YTBwFW4ewei0"
      },
      "source": [
        "Еще одной важной частью работы с данными является **нормализация данных**.\n",
        "\n",
        "Это особенно актуально при работе с данными в текством формате и при работе с данными из нескольких разнородных источников. Например, один и тот же номер телефона пользователя может записан в базах данных в разных форматах:\n",
        "\n",
        "- `+7(918)123-45-67`\n",
        "- `+7(918)1234567`\n",
        "- `+79181234567`\n",
        "- `+8(918)123-45-67`\n",
        "- `8(918)1234567`\n",
        "- `89181234567`\n",
        "\n",
        "Поэтому важно нормализовывать данные, чтобы иметь возможность объединить все данные, которые относятся к одному реальному объекту. \n",
        "\n",
        "Именно нормализации данных при работе со строками будем учиться в следующей части домашней работы"
      ]
    },
    {
      "cell_type": "markdown",
      "metadata": {
        "id": "GE9OPphBwei1"
      },
      "source": [
        "## Работа со строками в датафрейме\n",
        "\n",
        "Для датафреймов существуют методы работы со строковыми данными. Чтобы применить их, необходимо воспользоваться атрибутом ```str```, после чего вызвать нужные методы работы со строками. Например, вызов:\n",
        "\n",
        "```df['content'].str.len() ```\n",
        "\n",
        "подсчитает для каждой строчки в датафрейме количество символов в колонке content. Более подробную информацию про работу с текстовыми данными в Pandas можно найти, например, [здесь](https://pandas.pydata.org/pandas-docs/stable/user_guide/text.html).\n"
      ]
    },
    {
      "cell_type": "markdown",
      "metadata": {
        "id": "gRE63cLowei2"
      },
      "source": [
        "**Задача 7 (1 балл)**\n",
        "\n",
        "Найдите в датафрейме всех авторов, имя которых содержит ```Faith```. Выведите Series, состоящий из всех таких уникальных имен."
      ]
    },
    {
      "cell_type": "code",
      "metadata": {
        "colab": {
          "base_uri": "https://localhost:8080/"
        },
        "id": "6Eu3QokAvsMY",
        "outputId": "77138cee-9b55-41cd-ff0b-592f86157ea1"
      },
      "source": [
        "pd.Series(df[df.author.str.contains('Faith')].author.unique())"
      ],
      "execution_count": 46,
      "outputs": [
        {
          "output_type": "execute_result",
          "data": {
            "text/plain": [
              "0     Faith Haleh Robinson\n",
              "1             Faith Karimi\n",
              "2     Faith Haleh Robinson\n",
              "3            Faith Karimi,\n",
              "4            Faith Karimi \n",
              "5           Faith Karimi, \n",
              "6             Faith Karimi\n",
              "7            Faith Karimi \n",
              "dtype: object"
            ]
          },
          "metadata": {
            "tags": []
          },
          "execution_count": 46
        }
      ]
    },
    {
      "cell_type": "code",
      "metadata": {
        "id": "GVkKvKHTwei3",
        "outputId": "13da3843-3dfc-42b9-9c41-bf03135a8a61"
      },
      "source": [
        ""
      ],
      "execution_count": null,
      "outputs": [
        {
          "output_type": "execute_result",
          "data": {
            "text/plain": [
              "0     Faith Haleh Robinson\n",
              "1             Faith Karimi\n",
              "2     Faith Haleh Robinson\n",
              "3            Faith Karimi,\n",
              "4            Faith Karimi \n",
              "5           Faith Karimi, \n",
              "6             Faith Karimi\n",
              "7            Faith Karimi \n",
              "dtype: object"
            ]
          },
          "metadata": {
            "tags": []
          },
          "execution_count": 16
        }
      ]
    },
    {
      "cell_type": "markdown",
      "metadata": {
        "id": "cq_mYBq5wei3"
      },
      "source": [
        "Как можно заметить, в таблице существует множество различных написаний имени Faith Karimi. В основном эти написания различаются пунктуацией - лишние пробелы и запятые. Для правильного подсчета статистик для текстовых данных зачастую возникает необходимость в их предобработке.\n",
        "\n",
        "**Методы строк** можно вспомнить по этой ссылке: https://pythonworld.ru/tipy-dannyx-v-python/stroki-funkcii-i-metody-strok.html\n",
        "\n",
        "Проведите следующие преобразования для колонок ```author``` и ```content``` (**всего 2 балла**):\n"
      ]
    },
    {
      "cell_type": "markdown",
      "metadata": {
        "id": "BenF9rHuwei4"
      },
      "source": [
        "**Задача 8 (0.5 балла)** Приведение текста к нижнему регистру;\n"
      ]
    },
    {
      "cell_type": "code",
      "metadata": {
        "colab": {
          "base_uri": "https://localhost:8080/",
          "height": 589
        },
        "id": "VYRoYEhA1VB1",
        "outputId": "b4e04580-40ee-4e5b-86a5-88b46f50515c"
      },
      "source": [
        "df[\"author\"]=df[\"author\"].str.lower()\n",
        "df"
      ],
      "execution_count": 96,
      "outputs": [
        {
          "output_type": "execute_result",
          "data": {
            "text/html": [
              "<div>\n",
              "<style scoped>\n",
              "    .dataframe tbody tr th:only-of-type {\n",
              "        vertical-align: middle;\n",
              "    }\n",
              "\n",
              "    .dataframe tbody tr th {\n",
              "        vertical-align: top;\n",
              "    }\n",
              "\n",
              "    .dataframe thead th {\n",
              "        text-align: right;\n",
              "    }\n",
              "</style>\n",
              "<table border=\"1\" class=\"dataframe\">\n",
              "  <thead>\n",
              "    <tr style=\"text-align: right;\">\n",
              "      <th></th>\n",
              "      <th>id</th>\n",
              "      <th>title</th>\n",
              "      <th>publication</th>\n",
              "      <th>author</th>\n",
              "      <th>date</th>\n",
              "      <th>year</th>\n",
              "      <th>month</th>\n",
              "      <th>content</th>\n",
              "    </tr>\n",
              "  </thead>\n",
              "  <tbody>\n",
              "    <tr>\n",
              "      <th>0</th>\n",
              "      <td>17283</td>\n",
              "      <td>House Republicans Fret About Winning Their Hea...</td>\n",
              "      <td>New York Times</td>\n",
              "      <td>carl hulse</td>\n",
              "      <td>2016-12-31</td>\n",
              "      <td>2016</td>\n",
              "      <td>12</td>\n",
              "      <td>WASHINGTON  —   Congressional Republicans have...</td>\n",
              "    </tr>\n",
              "    <tr>\n",
              "      <th>1</th>\n",
              "      <td>17284</td>\n",
              "      <td>Rift Between Officers and Residents as Killing...</td>\n",
              "      <td>New York Times</td>\n",
              "      <td>benjamin mueller and al baker</td>\n",
              "      <td>2017-06-19</td>\n",
              "      <td>2017</td>\n",
              "      <td>6</td>\n",
              "      <td>After the bullet shells get counted, the blood...</td>\n",
              "    </tr>\n",
              "    <tr>\n",
              "      <th>2</th>\n",
              "      <td>17285</td>\n",
              "      <td>Tyrus Wong, ‘Bambi’ Artist Thwarted by Racial ...</td>\n",
              "      <td>New York Times</td>\n",
              "      <td>margalit fox</td>\n",
              "      <td>2017-01-06</td>\n",
              "      <td>2017</td>\n",
              "      <td>1</td>\n",
              "      <td>When Walt Disney’s “Bambi” opened in 1942, cri...</td>\n",
              "    </tr>\n",
              "    <tr>\n",
              "      <th>3</th>\n",
              "      <td>17286</td>\n",
              "      <td>Among Deaths in 2016, a Heavy Toll in Pop Musi...</td>\n",
              "      <td>New York Times</td>\n",
              "      <td>william mcdonald</td>\n",
              "      <td>2017-04-10</td>\n",
              "      <td>2017</td>\n",
              "      <td>4</td>\n",
              "      <td>Death may be the great equalizer, but it isn’t...</td>\n",
              "    </tr>\n",
              "    <tr>\n",
              "      <th>4</th>\n",
              "      <td>17287</td>\n",
              "      <td>Kim Jong-un Says North Korea Is Preparing to T...</td>\n",
              "      <td>New York Times</td>\n",
              "      <td>choe sang-hun</td>\n",
              "      <td>2017-01-02</td>\n",
              "      <td>2017</td>\n",
              "      <td>1</td>\n",
              "      <td>SEOUL, South Korea  —   North Korea’s leader, ...</td>\n",
              "    </tr>\n",
              "    <tr>\n",
              "      <th>...</th>\n",
              "      <td>...</td>\n",
              "      <td>...</td>\n",
              "      <td>...</td>\n",
              "      <td>...</td>\n",
              "      <td>...</td>\n",
              "      <td>...</td>\n",
              "      <td>...</td>\n",
              "      <td>...</td>\n",
              "    </tr>\n",
              "    <tr>\n",
              "      <th>49995</th>\n",
              "      <td>73465</td>\n",
              "      <td>Rex Tillerson Says Climate Change Is Real, but …</td>\n",
              "      <td>Atlantic</td>\n",
              "      <td>robinson meyer</td>\n",
              "      <td>2017-01-11</td>\n",
              "      <td>2017</td>\n",
              "      <td>1</td>\n",
              "      <td>As chairman and CEO of ExxonMobil, Rex Tillers...</td>\n",
              "    </tr>\n",
              "    <tr>\n",
              "      <th>49996</th>\n",
              "      <td>73466</td>\n",
              "      <td>The Biggest Intelligence Questions Raised by t...</td>\n",
              "      <td>Atlantic</td>\n",
              "      <td>amy zegart</td>\n",
              "      <td>2017-01-11</td>\n",
              "      <td>2017</td>\n",
              "      <td>1</td>\n",
              "      <td>I’ve spent nearly 20 years looking at intellig...</td>\n",
              "    </tr>\n",
              "    <tr>\n",
              "      <th>49997</th>\n",
              "      <td>73467</td>\n",
              "      <td>Trump Announces Plan That Does Little to Resol...</td>\n",
              "      <td>Atlantic</td>\n",
              "      <td>jeremy venook</td>\n",
              "      <td>2017-01-11</td>\n",
              "      <td>2017</td>\n",
              "      <td>1</td>\n",
              "      <td>Donald Trump will not be taking necessary st...</td>\n",
              "    </tr>\n",
              "    <tr>\n",
              "      <th>49998</th>\n",
              "      <td>73468</td>\n",
              "      <td>Dozens of For-Profit Colleges Could Soon Close</td>\n",
              "      <td>Atlantic</td>\n",
              "      <td>emily deruy</td>\n",
              "      <td>2017-01-11</td>\n",
              "      <td>2017</td>\n",
              "      <td>1</td>\n",
              "      <td>Dozens of   colleges could be forced to close ...</td>\n",
              "    </tr>\n",
              "    <tr>\n",
              "      <th>49999</th>\n",
              "      <td>73469</td>\n",
              "      <td>The Milky Way’s Stolen Stars</td>\n",
              "      <td>Atlantic</td>\n",
              "      <td>marina koren</td>\n",
              "      <td>2017-01-11</td>\n",
              "      <td>2017</td>\n",
              "      <td>1</td>\n",
              "      <td>The force of gravity can be described using a ...</td>\n",
              "    </tr>\n",
              "  </tbody>\n",
              "</table>\n",
              "<p>43694 rows × 8 columns</p>\n",
              "</div>"
            ],
            "text/plain": [
              "          id  ...                                            content\n",
              "0      17283  ...  WASHINGTON  —   Congressional Republicans have...\n",
              "1      17284  ...  After the bullet shells get counted, the blood...\n",
              "2      17285  ...  When Walt Disney’s “Bambi” opened in 1942, cri...\n",
              "3      17286  ...  Death may be the great equalizer, but it isn’t...\n",
              "4      17287  ...  SEOUL, South Korea  —   North Korea’s leader, ...\n",
              "...      ...  ...                                                ...\n",
              "49995  73465  ...  As chairman and CEO of ExxonMobil, Rex Tillers...\n",
              "49996  73466  ...  I’ve spent nearly 20 years looking at intellig...\n",
              "49997  73467  ...    Donald Trump will not be taking necessary st...\n",
              "49998  73468  ...  Dozens of   colleges could be forced to close ...\n",
              "49999  73469  ...  The force of gravity can be described using a ...\n",
              "\n",
              "[43694 rows x 8 columns]"
            ]
          },
          "metadata": {
            "tags": []
          },
          "execution_count": 96
        }
      ]
    },
    {
      "cell_type": "code",
      "metadata": {
        "colab": {
          "base_uri": "https://localhost:8080/",
          "height": 589
        },
        "id": "MPc0o9PnyYxn",
        "outputId": "73ed577a-2e1f-4187-bd36-1daad1aed24c"
      },
      "source": [
        "df[\"content\"]=df[\"content\"].str.lower()\n",
        "df"
      ],
      "execution_count": 98,
      "outputs": [
        {
          "output_type": "execute_result",
          "data": {
            "text/html": [
              "<div>\n",
              "<style scoped>\n",
              "    .dataframe tbody tr th:only-of-type {\n",
              "        vertical-align: middle;\n",
              "    }\n",
              "\n",
              "    .dataframe tbody tr th {\n",
              "        vertical-align: top;\n",
              "    }\n",
              "\n",
              "    .dataframe thead th {\n",
              "        text-align: right;\n",
              "    }\n",
              "</style>\n",
              "<table border=\"1\" class=\"dataframe\">\n",
              "  <thead>\n",
              "    <tr style=\"text-align: right;\">\n",
              "      <th></th>\n",
              "      <th>id</th>\n",
              "      <th>title</th>\n",
              "      <th>publication</th>\n",
              "      <th>author</th>\n",
              "      <th>date</th>\n",
              "      <th>year</th>\n",
              "      <th>month</th>\n",
              "      <th>content</th>\n",
              "    </tr>\n",
              "  </thead>\n",
              "  <tbody>\n",
              "    <tr>\n",
              "      <th>0</th>\n",
              "      <td>17283</td>\n",
              "      <td>House Republicans Fret About Winning Their Hea...</td>\n",
              "      <td>New York Times</td>\n",
              "      <td>carl hulse</td>\n",
              "      <td>2016-12-31</td>\n",
              "      <td>2016</td>\n",
              "      <td>12</td>\n",
              "      <td>washington  —   congressional republicans have...</td>\n",
              "    </tr>\n",
              "    <tr>\n",
              "      <th>1</th>\n",
              "      <td>17284</td>\n",
              "      <td>Rift Between Officers and Residents as Killing...</td>\n",
              "      <td>New York Times</td>\n",
              "      <td>benjamin mueller and al baker</td>\n",
              "      <td>2017-06-19</td>\n",
              "      <td>2017</td>\n",
              "      <td>6</td>\n",
              "      <td>after the bullet shells get counted, the blood...</td>\n",
              "    </tr>\n",
              "    <tr>\n",
              "      <th>2</th>\n",
              "      <td>17285</td>\n",
              "      <td>Tyrus Wong, ‘Bambi’ Artist Thwarted by Racial ...</td>\n",
              "      <td>New York Times</td>\n",
              "      <td>margalit fox</td>\n",
              "      <td>2017-01-06</td>\n",
              "      <td>2017</td>\n",
              "      <td>1</td>\n",
              "      <td>when walt disney’s “bambi” opened in 1942, cri...</td>\n",
              "    </tr>\n",
              "    <tr>\n",
              "      <th>3</th>\n",
              "      <td>17286</td>\n",
              "      <td>Among Deaths in 2016, a Heavy Toll in Pop Musi...</td>\n",
              "      <td>New York Times</td>\n",
              "      <td>william mcdonald</td>\n",
              "      <td>2017-04-10</td>\n",
              "      <td>2017</td>\n",
              "      <td>4</td>\n",
              "      <td>death may be the great equalizer, but it isn’t...</td>\n",
              "    </tr>\n",
              "    <tr>\n",
              "      <th>4</th>\n",
              "      <td>17287</td>\n",
              "      <td>Kim Jong-un Says North Korea Is Preparing to T...</td>\n",
              "      <td>New York Times</td>\n",
              "      <td>choe sang-hun</td>\n",
              "      <td>2017-01-02</td>\n",
              "      <td>2017</td>\n",
              "      <td>1</td>\n",
              "      <td>seoul, south korea  —   north korea’s leader, ...</td>\n",
              "    </tr>\n",
              "    <tr>\n",
              "      <th>...</th>\n",
              "      <td>...</td>\n",
              "      <td>...</td>\n",
              "      <td>...</td>\n",
              "      <td>...</td>\n",
              "      <td>...</td>\n",
              "      <td>...</td>\n",
              "      <td>...</td>\n",
              "      <td>...</td>\n",
              "    </tr>\n",
              "    <tr>\n",
              "      <th>49995</th>\n",
              "      <td>73465</td>\n",
              "      <td>Rex Tillerson Says Climate Change Is Real, but …</td>\n",
              "      <td>Atlantic</td>\n",
              "      <td>robinson meyer</td>\n",
              "      <td>2017-01-11</td>\n",
              "      <td>2017</td>\n",
              "      <td>1</td>\n",
              "      <td>as chairman and ceo of exxonmobil, rex tillers...</td>\n",
              "    </tr>\n",
              "    <tr>\n",
              "      <th>49996</th>\n",
              "      <td>73466</td>\n",
              "      <td>The Biggest Intelligence Questions Raised by t...</td>\n",
              "      <td>Atlantic</td>\n",
              "      <td>amy zegart</td>\n",
              "      <td>2017-01-11</td>\n",
              "      <td>2017</td>\n",
              "      <td>1</td>\n",
              "      <td>i’ve spent nearly 20 years looking at intellig...</td>\n",
              "    </tr>\n",
              "    <tr>\n",
              "      <th>49997</th>\n",
              "      <td>73467</td>\n",
              "      <td>Trump Announces Plan That Does Little to Resol...</td>\n",
              "      <td>Atlantic</td>\n",
              "      <td>jeremy venook</td>\n",
              "      <td>2017-01-11</td>\n",
              "      <td>2017</td>\n",
              "      <td>1</td>\n",
              "      <td>donald trump will not be taking necessary st...</td>\n",
              "    </tr>\n",
              "    <tr>\n",
              "      <th>49998</th>\n",
              "      <td>73468</td>\n",
              "      <td>Dozens of For-Profit Colleges Could Soon Close</td>\n",
              "      <td>Atlantic</td>\n",
              "      <td>emily deruy</td>\n",
              "      <td>2017-01-11</td>\n",
              "      <td>2017</td>\n",
              "      <td>1</td>\n",
              "      <td>dozens of   colleges could be forced to close ...</td>\n",
              "    </tr>\n",
              "    <tr>\n",
              "      <th>49999</th>\n",
              "      <td>73469</td>\n",
              "      <td>The Milky Way’s Stolen Stars</td>\n",
              "      <td>Atlantic</td>\n",
              "      <td>marina koren</td>\n",
              "      <td>2017-01-11</td>\n",
              "      <td>2017</td>\n",
              "      <td>1</td>\n",
              "      <td>the force of gravity can be described using a ...</td>\n",
              "    </tr>\n",
              "  </tbody>\n",
              "</table>\n",
              "<p>43694 rows × 8 columns</p>\n",
              "</div>"
            ],
            "text/plain": [
              "          id  ...                                            content\n",
              "0      17283  ...  washington  —   congressional republicans have...\n",
              "1      17284  ...  after the bullet shells get counted, the blood...\n",
              "2      17285  ...  when walt disney’s “bambi” opened in 1942, cri...\n",
              "3      17286  ...  death may be the great equalizer, but it isn’t...\n",
              "4      17287  ...  seoul, south korea  —   north korea’s leader, ...\n",
              "...      ...  ...                                                ...\n",
              "49995  73465  ...  as chairman and ceo of exxonmobil, rex tillers...\n",
              "49996  73466  ...  i’ve spent nearly 20 years looking at intellig...\n",
              "49997  73467  ...    donald trump will not be taking necessary st...\n",
              "49998  73468  ...  dozens of   colleges could be forced to close ...\n",
              "49999  73469  ...  the force of gravity can be described using a ...\n",
              "\n",
              "[43694 rows x 8 columns]"
            ]
          },
          "metadata": {
            "tags": []
          },
          "execution_count": 98
        }
      ]
    },
    {
      "cell_type": "code",
      "metadata": {
        "id": "w6i7Kj6Twei4",
        "outputId": "637e5b75-2892-423b-9c3f-e8d2e316546e"
      },
      "source": [
        ""
      ],
      "execution_count": null,
      "outputs": [
        {
          "output_type": "execute_result",
          "data": {
            "text/html": [
              "<div>\n",
              "<style scoped>\n",
              "    .dataframe tbody tr th:only-of-type {\n",
              "        vertical-align: middle;\n",
              "    }\n",
              "\n",
              "    .dataframe tbody tr th {\n",
              "        vertical-align: top;\n",
              "    }\n",
              "\n",
              "    .dataframe thead th {\n",
              "        text-align: right;\n",
              "    }\n",
              "</style>\n",
              "<table border=\"1\" class=\"dataframe\">\n",
              "  <thead>\n",
              "    <tr style=\"text-align: right;\">\n",
              "      <th></th>\n",
              "      <th>id</th>\n",
              "      <th>title</th>\n",
              "      <th>publication</th>\n",
              "      <th>author</th>\n",
              "      <th>date</th>\n",
              "      <th>year</th>\n",
              "      <th>month</th>\n",
              "      <th>content</th>\n",
              "    </tr>\n",
              "  </thead>\n",
              "  <tbody>\n",
              "    <tr>\n",
              "      <th>0</th>\n",
              "      <td>17283</td>\n",
              "      <td>House Republicans Fret About Winning Their Hea...</td>\n",
              "      <td>New York Times</td>\n",
              "      <td>carl hulse</td>\n",
              "      <td>2016-12-31</td>\n",
              "      <td>2016</td>\n",
              "      <td>12</td>\n",
              "      <td>washington  —   congressional republicans have...</td>\n",
              "    </tr>\n",
              "    <tr>\n",
              "      <th>1</th>\n",
              "      <td>17284</td>\n",
              "      <td>Rift Between Officers and Residents as Killing...</td>\n",
              "      <td>New York Times</td>\n",
              "      <td>benjamin mueller and al baker</td>\n",
              "      <td>2017-06-19</td>\n",
              "      <td>2017</td>\n",
              "      <td>6</td>\n",
              "      <td>after the bullet shells get counted, the blood...</td>\n",
              "    </tr>\n",
              "    <tr>\n",
              "      <th>2</th>\n",
              "      <td>17285</td>\n",
              "      <td>Tyrus Wong, ‘Bambi’ Artist Thwarted by Racial ...</td>\n",
              "      <td>New York Times</td>\n",
              "      <td>margalit fox</td>\n",
              "      <td>2017-01-06</td>\n",
              "      <td>2017</td>\n",
              "      <td>1</td>\n",
              "      <td>when walt disney’s “bambi” opened in 1942, cri...</td>\n",
              "    </tr>\n",
              "    <tr>\n",
              "      <th>3</th>\n",
              "      <td>17286</td>\n",
              "      <td>Among Deaths in 2016, a Heavy Toll in Pop Musi...</td>\n",
              "      <td>New York Times</td>\n",
              "      <td>william mcdonald</td>\n",
              "      <td>2017-04-10</td>\n",
              "      <td>2017</td>\n",
              "      <td>4</td>\n",
              "      <td>death may be the great equalizer, but it isn’t...</td>\n",
              "    </tr>\n",
              "    <tr>\n",
              "      <th>4</th>\n",
              "      <td>17287</td>\n",
              "      <td>Kim Jong-un Says North Korea Is Preparing to T...</td>\n",
              "      <td>New York Times</td>\n",
              "      <td>choe sang-hun</td>\n",
              "      <td>2017-01-02</td>\n",
              "      <td>2017</td>\n",
              "      <td>1</td>\n",
              "      <td>seoul, south korea  —   north korea’s leader, ...</td>\n",
              "    </tr>\n",
              "  </tbody>\n",
              "</table>\n",
              "</div>"
            ],
            "text/plain": [
              "      id                                              title     publication  \\\n",
              "0  17283  House Republicans Fret About Winning Their Hea...  New York Times   \n",
              "1  17284  Rift Between Officers and Residents as Killing...  New York Times   \n",
              "2  17285  Tyrus Wong, ‘Bambi’ Artist Thwarted by Racial ...  New York Times   \n",
              "3  17286  Among Deaths in 2016, a Heavy Toll in Pop Musi...  New York Times   \n",
              "4  17287  Kim Jong-un Says North Korea Is Preparing to T...  New York Times   \n",
              "\n",
              "                          author        date  year  month  \\\n",
              "0                     carl hulse  2016-12-31  2016     12   \n",
              "1  benjamin mueller and al baker  2017-06-19  2017      6   \n",
              "2                   margalit fox  2017-01-06  2017      1   \n",
              "3               william mcdonald  2017-04-10  2017      4   \n",
              "4                  choe sang-hun  2017-01-02  2017      1   \n",
              "\n",
              "                                             content  \n",
              "0  washington  —   congressional republicans have...  \n",
              "1  after the bullet shells get counted, the blood...  \n",
              "2  when walt disney’s “bambi” opened in 1942, cri...  \n",
              "3  death may be the great equalizer, but it isn’t...  \n",
              "4  seoul, south korea  —   north korea’s leader, ...  "
            ]
          },
          "metadata": {
            "tags": []
          },
          "execution_count": 17
        }
      ]
    },
    {
      "cell_type": "markdown",
      "metadata": {
        "id": "wubbo6KBwei5"
      },
      "source": [
        "**Задача 9 (0.5 балла)** Удаление всей пунктуации из текста;\n",
        "\n",
        "*Подсказка:* для вас уже создано начальное множество символов (достаточно ли его?). Символы надо исключить с помощью метода ```replace```"
      ]
    },
    {
      "cell_type": "code",
      "metadata": {
        "colab": {
          "base_uri": "https://localhost:8080/"
        },
        "id": "erQ5CEwhwei5",
        "outputId": "332ea0c7-7a70-4217-b37b-c8ff2e1ba334"
      },
      "source": [
        "import string\n",
        "punctuation = set(string.punctuation)\n",
        "print(punctuation)\n",
        "print(len(punctuation))"
      ],
      "execution_count": 84,
      "outputs": [
        {
          "output_type": "stream",
          "text": [
            "{'[', '|', '.', '>', '^', '#', '!', ';', '$', '{', '\"', '%', '+', '}', '@', '=', ',', '\\\\', '_', '&', ']', '~', '(', ':', '/', \"'\", '*', ')', '?', '`', '<', '-'}\n",
            "32\n"
          ],
          "name": "stdout"
        }
      ]
    },
    {
      "cell_type": "code",
      "metadata": {
        "colab": {
          "base_uri": "https://localhost:8080/",
          "height": 589
        },
        "id": "xHOqcxZx1q9Z",
        "outputId": "efe6f8de-b228-44c7-f09c-bf345983760f"
      },
      "source": [
        "df[\"author\"]=df[\"author\"].str.replace('[^\\w\\s]','')\n",
        "df[\"content\"]=df[\"content\"].str.replace('[^\\w\\s]','')\n",
        "df"
      ],
      "execution_count": 101,
      "outputs": [
        {
          "output_type": "execute_result",
          "data": {
            "text/html": [
              "<div>\n",
              "<style scoped>\n",
              "    .dataframe tbody tr th:only-of-type {\n",
              "        vertical-align: middle;\n",
              "    }\n",
              "\n",
              "    .dataframe tbody tr th {\n",
              "        vertical-align: top;\n",
              "    }\n",
              "\n",
              "    .dataframe thead th {\n",
              "        text-align: right;\n",
              "    }\n",
              "</style>\n",
              "<table border=\"1\" class=\"dataframe\">\n",
              "  <thead>\n",
              "    <tr style=\"text-align: right;\">\n",
              "      <th></th>\n",
              "      <th>id</th>\n",
              "      <th>title</th>\n",
              "      <th>publication</th>\n",
              "      <th>author</th>\n",
              "      <th>date</th>\n",
              "      <th>year</th>\n",
              "      <th>month</th>\n",
              "      <th>content</th>\n",
              "    </tr>\n",
              "  </thead>\n",
              "  <tbody>\n",
              "    <tr>\n",
              "      <th>0</th>\n",
              "      <td>17283</td>\n",
              "      <td>House Republicans Fret About Winning Their Hea...</td>\n",
              "      <td>New York Times</td>\n",
              "      <td>carl hulse</td>\n",
              "      <td>2016-12-31</td>\n",
              "      <td>2016</td>\n",
              "      <td>12</td>\n",
              "      <td>washington     congressional republicans have ...</td>\n",
              "    </tr>\n",
              "    <tr>\n",
              "      <th>1</th>\n",
              "      <td>17284</td>\n",
              "      <td>Rift Between Officers and Residents as Killing...</td>\n",
              "      <td>New York Times</td>\n",
              "      <td>benjamin mueller and al baker</td>\n",
              "      <td>2017-06-19</td>\n",
              "      <td>2017</td>\n",
              "      <td>6</td>\n",
              "      <td>after the bullet shells get counted the blood ...</td>\n",
              "    </tr>\n",
              "    <tr>\n",
              "      <th>2</th>\n",
              "      <td>17285</td>\n",
              "      <td>Tyrus Wong, ‘Bambi’ Artist Thwarted by Racial ...</td>\n",
              "      <td>New York Times</td>\n",
              "      <td>margalit fox</td>\n",
              "      <td>2017-01-06</td>\n",
              "      <td>2017</td>\n",
              "      <td>1</td>\n",
              "      <td>when walt disneys bambi opened in 1942 critics...</td>\n",
              "    </tr>\n",
              "    <tr>\n",
              "      <th>3</th>\n",
              "      <td>17286</td>\n",
              "      <td>Among Deaths in 2016, a Heavy Toll in Pop Musi...</td>\n",
              "      <td>New York Times</td>\n",
              "      <td>william mcdonald</td>\n",
              "      <td>2017-04-10</td>\n",
              "      <td>2017</td>\n",
              "      <td>4</td>\n",
              "      <td>death may be the great equalizer but it isnt n...</td>\n",
              "    </tr>\n",
              "    <tr>\n",
              "      <th>4</th>\n",
              "      <td>17287</td>\n",
              "      <td>Kim Jong-un Says North Korea Is Preparing to T...</td>\n",
              "      <td>New York Times</td>\n",
              "      <td>choe sanghun</td>\n",
              "      <td>2017-01-02</td>\n",
              "      <td>2017</td>\n",
              "      <td>1</td>\n",
              "      <td>seoul south korea     north koreas leader kim ...</td>\n",
              "    </tr>\n",
              "    <tr>\n",
              "      <th>...</th>\n",
              "      <td>...</td>\n",
              "      <td>...</td>\n",
              "      <td>...</td>\n",
              "      <td>...</td>\n",
              "      <td>...</td>\n",
              "      <td>...</td>\n",
              "      <td>...</td>\n",
              "      <td>...</td>\n",
              "    </tr>\n",
              "    <tr>\n",
              "      <th>49995</th>\n",
              "      <td>73465</td>\n",
              "      <td>Rex Tillerson Says Climate Change Is Real, but …</td>\n",
              "      <td>Atlantic</td>\n",
              "      <td>robinson meyer</td>\n",
              "      <td>2017-01-11</td>\n",
              "      <td>2017</td>\n",
              "      <td>1</td>\n",
              "      <td>as chairman and ceo of exxonmobil rex tillerso...</td>\n",
              "    </tr>\n",
              "    <tr>\n",
              "      <th>49996</th>\n",
              "      <td>73466</td>\n",
              "      <td>The Biggest Intelligence Questions Raised by t...</td>\n",
              "      <td>Atlantic</td>\n",
              "      <td>amy zegart</td>\n",
              "      <td>2017-01-11</td>\n",
              "      <td>2017</td>\n",
              "      <td>1</td>\n",
              "      <td>ive spent nearly 20 years looking at intellige...</td>\n",
              "    </tr>\n",
              "    <tr>\n",
              "      <th>49997</th>\n",
              "      <td>73467</td>\n",
              "      <td>Trump Announces Plan That Does Little to Resol...</td>\n",
              "      <td>Atlantic</td>\n",
              "      <td>jeremy venook</td>\n",
              "      <td>2017-01-11</td>\n",
              "      <td>2017</td>\n",
              "      <td>1</td>\n",
              "      <td>donald trump will not be taking necessary st...</td>\n",
              "    </tr>\n",
              "    <tr>\n",
              "      <th>49998</th>\n",
              "      <td>73468</td>\n",
              "      <td>Dozens of For-Profit Colleges Could Soon Close</td>\n",
              "      <td>Atlantic</td>\n",
              "      <td>emily deruy</td>\n",
              "      <td>2017-01-11</td>\n",
              "      <td>2017</td>\n",
              "      <td>1</td>\n",
              "      <td>dozens of   colleges could be forced to close ...</td>\n",
              "    </tr>\n",
              "    <tr>\n",
              "      <th>49999</th>\n",
              "      <td>73469</td>\n",
              "      <td>The Milky Way’s Stolen Stars</td>\n",
              "      <td>Atlantic</td>\n",
              "      <td>marina koren</td>\n",
              "      <td>2017-01-11</td>\n",
              "      <td>2017</td>\n",
              "      <td>1</td>\n",
              "      <td>the force of gravity can be described using a ...</td>\n",
              "    </tr>\n",
              "  </tbody>\n",
              "</table>\n",
              "<p>43694 rows × 8 columns</p>\n",
              "</div>"
            ],
            "text/plain": [
              "          id  ...                                            content\n",
              "0      17283  ...  washington     congressional republicans have ...\n",
              "1      17284  ...  after the bullet shells get counted the blood ...\n",
              "2      17285  ...  when walt disneys bambi opened in 1942 critics...\n",
              "3      17286  ...  death may be the great equalizer but it isnt n...\n",
              "4      17287  ...  seoul south korea     north koreas leader kim ...\n",
              "...      ...  ...                                                ...\n",
              "49995  73465  ...  as chairman and ceo of exxonmobil rex tillerso...\n",
              "49996  73466  ...  ive spent nearly 20 years looking at intellige...\n",
              "49997  73467  ...    donald trump will not be taking necessary st...\n",
              "49998  73468  ...  dozens of   colleges could be forced to close ...\n",
              "49999  73469  ...  the force of gravity can be described using a ...\n",
              "\n",
              "[43694 rows x 8 columns]"
            ]
          },
          "metadata": {
            "tags": []
          },
          "execution_count": 101
        }
      ]
    },
    {
      "cell_type": "code",
      "metadata": {
        "id": "RviM9VH0wei6"
      },
      "source": [
        "# может работать несколько секунд\n",
        "for delimiter in punctuation:\n",
        "    \n",
        "    # your code here"
      ],
      "execution_count": null,
      "outputs": []
    },
    {
      "cell_type": "code",
      "metadata": {
        "colab": {
          "base_uri": "https://localhost:8080/",
          "height": 70
        },
        "id": "7qZbXFH7wei6",
        "outputId": "95b9ce7e-b451-43f5-8bb3-4c8758224b79"
      },
      "source": [
        "# пример того, что должно получиться после этого шага\n",
        "df.content.loc[45926]"
      ],
      "execution_count": 102,
      "outputs": [
        {
          "output_type": "execute_result",
          "data": {
            "application/vnd.google.colaboratory.intrinsic+json": {
              "type": "string"
            },
            "text/plain": [
              "'back in the late 90s getting a startup big enough to get onto the stock market was the thing to do  now a market crash a great recession and a possible   burst later     investors are  and the public stock market is increasingly volatile still going public is often viewed as the end goal for ambitious young tech companies  heres how and why startups wind up on the stock market     and why  back in the late 90s getting a startup big '"
            ]
          },
          "metadata": {
            "tags": []
          },
          "execution_count": 102
        }
      ]
    },
    {
      "cell_type": "markdown",
      "metadata": {
        "id": "g9d1nv3Owei7"
      },
      "source": [
        "**Задача 10 (0.5 балла)** Удаление пробелов в начале и конце строки; (воспользуйтесь готовым методом)\n"
      ]
    },
    {
      "cell_type": "code",
      "metadata": {
        "id": "3c3EVy580n5u"
      },
      "source": [
        "df[\"author\"]=df[\"author\"].str.strip()\n",
        "df[\"content\"]=df[\"content\"].str.strip()"
      ],
      "execution_count": 104,
      "outputs": []
    },
    {
      "cell_type": "code",
      "metadata": {
        "colab": {
          "base_uri": "https://localhost:8080/",
          "height": 70
        },
        "id": "wDuYq3kTwei7",
        "outputId": "f3cd86cb-1539-4561-c292-3694d1536a45"
      },
      "source": [
        "df.content.loc[45926]"
      ],
      "execution_count": 105,
      "outputs": [
        {
          "output_type": "execute_result",
          "data": {
            "application/vnd.google.colaboratory.intrinsic+json": {
              "type": "string"
            },
            "text/plain": [
              "'back in the late 90s getting a startup big enough to get onto the stock market was the thing to do  now a market crash a great recession and a possible   burst later     investors are  and the public stock market is increasingly volatile still going public is often viewed as the end goal for ambitious young tech companies  heres how and why startups wind up on the stock market     and why  back in the late 90s getting a startup big'"
            ]
          },
          "metadata": {
            "tags": []
          },
          "execution_count": 105
        }
      ]
    },
    {
      "cell_type": "markdown",
      "metadata": {
        "id": "kYbcF9Crwei8"
      },
      "source": [
        "**Задача 11 (0.5 балла)** Замена подряд идущих пробелов одним пробелом.\n"
      ]
    },
    {
      "cell_type": "code",
      "metadata": {
        "id": "pG5wt9Hl2qyR"
      },
      "source": [
        "df = df.replace('\\s+', ' ', regex=True)"
      ],
      "execution_count": 106,
      "outputs": []
    },
    {
      "cell_type": "code",
      "metadata": {
        "colab": {
          "base_uri": "https://localhost:8080/",
          "height": 70
        },
        "id": "pMXUUoIswei8",
        "outputId": "8f1de853-08ca-419a-b5fb-12a29b667272"
      },
      "source": [
        "df.content.loc[45926]"
      ],
      "execution_count": 107,
      "outputs": [
        {
          "output_type": "execute_result",
          "data": {
            "application/vnd.google.colaboratory.intrinsic+json": {
              "type": "string"
            },
            "text/plain": [
              "'back in the late 90s getting a startup big enough to get onto the stock market was the thing to do now a market crash a great recession and a possible burst later investors are and the public stock market is increasingly volatile still going public is often viewed as the end goal for ambitious young tech companies heres how and why startups wind up on the stock market and why back in the late 90s getting a startup big'"
            ]
          },
          "metadata": {
            "tags": []
          },
          "execution_count": 107
        }
      ]
    },
    {
      "cell_type": "markdown",
      "metadata": {
        "id": "e9Up7CLcwei9"
      },
      "source": [
        "После всего этого, например, строка ```\"   It's 6 a.m. and I'm still doing this homework :((    \"```\n",
        "\n",
        "преобразуется в строку  ```its 6 am and im still doing this homework```"
      ]
    },
    {
      "cell_type": "markdown",
      "metadata": {
        "id": "bTzINBIrwei9"
      },
      "source": [
        "\n",
        "Снова найдите в датафрейме всех авторов, имя которых содержит faith. Проверьте, что теперь различные способы написания «схлопываются» в один."
      ]
    },
    {
      "cell_type": "code",
      "metadata": {
        "colab": {
          "base_uri": "https://localhost:8080/"
        },
        "id": "MaDtUiFrwei-",
        "outputId": "67b7704f-d05c-4f7e-9d69-0d3afead981d"
      },
      "source": [
        "pd.Series(df[df.author.str.contains('faith')].author.unique())"
      ],
      "execution_count": 108,
      "outputs": [
        {
          "output_type": "execute_result",
          "data": {
            "text/plain": [
              "0    faith haleh robinson\n",
              "1            faith karimi\n",
              "dtype: object"
            ]
          },
          "metadata": {
            "tags": []
          },
          "execution_count": 108
        }
      ]
    },
    {
      "cell_type": "code",
      "metadata": {
        "id": "F3w5gSjAwei-"
      },
      "source": [
        ""
      ],
      "execution_count": null,
      "outputs": []
    }
  ]
}