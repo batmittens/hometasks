{
  "nbformat": 4,
  "nbformat_minor": 0,
  "metadata": {
    "colab": {
      "name": "Интенсив по машинному обучению в Сбербанке - финальный проект",
      "provenance": [],
      "collapsed_sections": []
    },
    "kernelspec": {
      "name": "python3",
      "display_name": "Python 3"
    }
  },
  "cells": [
    {
      "cell_type": "markdown",
      "metadata": {
        "id": "oQEQaY3DzpK2"
      },
      "source": [
        "# **Интенсив по машинному обучению в Сбербанке - финальный проект**\n",
        "\n",
        "**Скажи мне, на что ты тратишь деньги, и я скажу тебе, сколько тебе лет**\n",
        "\n",
        "Анализ обезличенных банковских транзакций клиентов Сбербанка."
      ]
    },
    {
      "cell_type": "markdown",
      "metadata": {
        "id": "Vnu0BixzYez7"
      },
      "source": [
        "Ссылка на соревнование: https://ods.ai/competitions/sberbank-sirius-lesson"
      ]
    },
    {
      "cell_type": "markdown",
      "metadata": {
        "id": "MTp9wmowz8E7"
      },
      "source": [
        "## **Определяем возраст по тратам** \n",
        "## Можно ли узнать возраст клиента на основе информации о его расходах по карте? \n",
        "\n",
        "Сбербанк подготовил задачу на базе реальных банковских транзакций. Совершенствуя свои продукты, банк использует информацию о пользователях, в том числе возраст. Это помогает сделать персонализированные продукты, которые удовлетворяют реальным потребностям клиентов. \n",
        "\n",
        "**В этом задании вам предстоит определить, есть ли разница в характере и типах трат между клиентами банка разных возрастов.**\n",
        "\n",
        "![](https://storage.yandexcloud.net/datasouls-competitions/sirius/pic/1_2.png)\n",
        "\n",
        "## **Исследовательский анализ данных**\n",
        "\n",
        "Ваша задача — исследовать информацию о расходах клиента банка и выяснить, по какой информации из транзакций - сумма транзакции, время транзакции, категория трат транзакиции или что-то еще - можно отличить клиентов банка разных возрастных категорий. Для этого вам нужно провести исследовательский анализ данных и выяснить, в чем же заключаются различия между тратами с карты у людей разного возраста.\n"
      ]
    },
    {
      "cell_type": "markdown",
      "metadata": {
        "id": "zNU67Jem7Ml_"
      },
      "source": [
        "## **Данные**\n",
        "\n",
        "Для решения задачи вам предоставляется информация о транзакциях клиентов банка. Объемом около 27 000 000 миллионов записей.\n",
        "\n",
        "Каждая запись описывает одну банковскую транзакцию. \n",
        "![](https://storage.yandexcloud.net/datasouls-competitions/sirius/pic/1_5.png)"
      ]
    },
    {
      "cell_type": "markdown",
      "metadata": {
        "id": "E0Px2sLeO99y"
      },
      "source": [
        "Вам предоставлен обучающий датасет (набор данных) ```transactions_train.csv```, в котором для каждой транзакции известна дата, сумма, тип и id клиента:\n",
        "- ```сlient_id``` – уникальный номер клиента;\n",
        "- ```trans_date``` – дата транзакции (представляет из себя просто номер дня в хронологическом порядке, начиная от заданной даты);\n",
        "- ```small_group``` – группа транзакций, характеризующих тип транзакции (например, продуктовые магазины, одежда, заправки, детские товары и т.п.);\n",
        "- ```amount_rur``` – сумма транзакции (для анонимизации данные суммы были трансформированы без потери структуры).\n",
        "\n",
        "На базе этого файла можно строить различные признаки, которые характеризуют возрастные группы.\n",
        "\n",
        "Целевая переменная для обучающего датасета находится в файле ```train_target.csv```. В нем содержится информация о Клиенте и метка возрастной группы, к которой он относится:\n",
        "\n",
        "- ```client_id``` – уникальный номер Клиента (соответствует client_id из файла transactions_train.csv);\n",
        "- ```bins``` – метка возраста. В файлe test.csv вам надо предсказать для указанных client_id соответствующую метку группы возраста\n",
        "\n",
        "Вам также предоставлен информационный файл ```small_group_description.csv```, который содержит расшифровку типов транзакций."
      ]
    },
    {
      "cell_type": "markdown",
      "metadata": {
        "id": "v8cPpLVb4iHY"
      },
      "source": [
        "## **Рекодмендуем материалы к ознакомлению** \n",
        "По ссылкам ниже вы можете найти презентацию с графиками и кодом отличного исследовательского анализа данных от одного из ведущих российских экспертов в области анализа данных Александра Дьяконова\n",
        "- пост с кодом: https://dyakonov.org/2016/10/14/data-science-contest-сбербанка/ \n",
        "- презентация из поста графика: https://alexanderdyakonov.files.wordpress.com/2016/10/dj2016_sdsj_vis.pdf\n",
        "\n",
        "Презентация по ссылке выше крайне рекомендуется к ознакомлению. Так вы лучше поймете, какие зависимости/срезы/графики нужно строить в финальном задании.\n",
        "\n",
        "Условно можете считать, что если вы сможете построить большинство графиков из презентации Александра Дьяконова, то это уже будет оценка \"отлично\"."
      ]
    },
    {
      "cell_type": "markdown",
      "metadata": {
        "id": "xGQYunT95dEa"
      },
      "source": [
        "## **(Раздел со звездочкой) Продвинутые задания с применением машинного обучения**\n",
        "Для тех, кто хочет пойти дальше исследовательского анализа данных и кому захочется обучить алгоритмы машинного обучения, есть доплонительное задание\n",
        "\n",
        "**Важно:** для получения максимальной оценки за финальный проект достаточно хорошо выполнить часть с исследовательским анализом данных. Часть с машинным обучением не является обязательной.Текст, выделенный полужирным шрифтом\n",
        "\n",
        "Задача анализа транзакций представляет из себя мультиклассовую классификацию (4 класса – от 0 до 3). Качество решения считается как доля верно угаданных меток возраста по всем тестовым примерам - **accuracy**.\n",
        "\n",
        "Ниже приведен пример рассчета метрики accuracy. Такая матрица называется матрицей ошибок (confusion matrix)\n",
        "\n",
        "![](https://storage.yandexcloud.net/datasouls-competitions/sirius/pic/1_3.png)\n",
        "\n",
        "Для тех, кто решится взяться за часть с машинным обучением, есть ноутбук ```baseline.ipynb```, где реализован пайплайн машинного обучения на примере обучения модели градиентного бустинга для многоклассовой классификации. Можете смело им пользоваться\n"
      ]
    },
    {
      "cell_type": "markdown",
      "metadata": {
        "id": "eElHpyRcbMhr"
      },
      "source": [
        "### Часть 1 - скачиваем данные\n"
      ]
    },
    {
      "cell_type": "code",
      "metadata": {
        "colab": {
          "base_uri": "https://localhost:8080/"
        },
        "id": "7Ak_9i0VZtfG",
        "outputId": "699f607e-13ea-4c42-a0f9-6beca07468fe"
      },
      "source": [
        "import os\n",
        "\n",
        "# создаем папку data\n",
        "os.mkdir('data')\n",
        "os.listdir()"
      ],
      "execution_count": 1,
      "outputs": [
        {
          "output_type": "execute_result",
          "data": {
            "text/plain": [
              "['.config', 'data', 'sample_data']"
            ]
          },
          "metadata": {
            "tags": []
          },
          "execution_count": 1
        }
      ]
    },
    {
      "cell_type": "code",
      "metadata": {
        "colab": {
          "base_uri": "https://localhost:8080/"
        },
        "id": "FF9nOZ1jZrT6",
        "outputId": "a297f98d-73d7-4312-8099-5310b44c344a"
      },
      "source": [
        "# скачиваем архив с данными\n",
        "!wget https://storage.yandexcloud.net/datasouls-competitions/sirius/data.zip "
      ],
      "execution_count": 2,
      "outputs": [
        {
          "output_type": "stream",
          "text": [
            "--2021-06-11 12:04:02--  https://storage.yandexcloud.net/datasouls-competitions/sirius/data.zip\n",
            "Resolving storage.yandexcloud.net (storage.yandexcloud.net)... 213.180.193.243, 2a02:6b8::1d9\n",
            "Connecting to storage.yandexcloud.net (storage.yandexcloud.net)|213.180.193.243|:443... connected.\n",
            "HTTP request sent, awaiting response... 200 OK\n",
            "Length: 251394334 (240M) [application/zip]\n",
            "Saving to: ‘data.zip’\n",
            "\n",
            "data.zip            100%[===================>] 239.75M  20.1MB/s    in 13s     \n",
            "\n",
            "2021-06-11 12:04:16 (18.5 MB/s) - ‘data.zip’ saved [251394334/251394334]\n",
            "\n"
          ],
          "name": "stdout"
        }
      ]
    },
    {
      "cell_type": "code",
      "metadata": {
        "colab": {
          "base_uri": "https://localhost:8080/"
        },
        "id": "DED6PPTEcjvH",
        "outputId": "103be4dc-97cc-4905-dafd-68fb77407928"
      },
      "source": [
        "# разархивируем данные\n",
        "!unzip data.zip -d './data'"
      ],
      "execution_count": 3,
      "outputs": [
        {
          "output_type": "stream",
          "text": [
            "Archive:  data.zip\n",
            "  inflating: ./data/test.csv         \n",
            "   creating: ./data/__MACOSX/\n",
            "  inflating: ./data/__MACOSX/._test.csv  \n",
            "  inflating: ./data/small_group_description.csv  \n",
            "  inflating: ./data/__MACOSX/._small_group_description.csv  \n",
            "  inflating: ./data/train_target.csv  \n",
            "  inflating: ./data/__MACOSX/._train_target.csv  \n",
            "  inflating: ./data/transactions_train.csv  \n",
            "  inflating: ./data/__MACOSX/._transactions_train.csv  \n",
            "  inflating: ./data/transactions_test.csv  \n",
            "  inflating: ./data/__MACOSX/._transactions_test.csv  \n"
          ],
          "name": "stdout"
        }
      ]
    },
    {
      "cell_type": "markdown",
      "metadata": {
        "id": "Sv_Qs5tAbSGp"
      },
      "source": [
        "### Часть 2 - вы выполняете исследовательский анализ данных\n",
        "\n",
        "Вот примерный набор вопросов, на которые стоит ответить с помощью анализа данных:\n",
        "- как меняется число и сумма странзакций в разных возрастных категориях клиентов по дням месяца, по дням недели?\n",
        "- какая средняя сумма трат по возрастным группам за месяц?\n",
        "- есть ли разница в среднем размере снимаемой в банкомате сумме для разных возрастных групп?\n",
        "- какие самые частые по числу транзакций и самые большие по ссумме покупок категории трат (```mcc_code```) для разных возрастных групп?\n",
        "- есть ли характерные категории трат для разных возрастных групп?\n",
        "\n",
        "И это лишь примерый список вопросов. Вы можете провести гораздо более широкий исследовательский анализ данных."
      ]
    },
    {
      "cell_type": "code",
      "metadata": {
        "colab": {
          "base_uri": "https://localhost:8080/"
        },
        "id": "AZJBEgRJxf5T",
        "outputId": "8f836017-2eaf-4a9e-a222-15eec641e100"
      },
      "source": [
        "os.listdir('./data')"
      ],
      "execution_count": 4,
      "outputs": [
        {
          "output_type": "execute_result",
          "data": {
            "text/plain": [
              "['small_group_description.csv',\n",
              " 'train_target.csv',\n",
              " 'transactions_train.csv',\n",
              " 'test.csv',\n",
              " 'transactions_test.csv',\n",
              " '__MACOSX']"
            ]
          },
          "metadata": {
            "tags": []
          },
          "execution_count": 4
        }
      ]
    },
    {
      "cell_type": "markdown",
      "metadata": {
        "id": "H_SzLFQfgckw"
      },
      "source": [
        "Считаем файл с транзакциями"
      ]
    },
    {
      "cell_type": "code",
      "metadata": {
        "colab": {
          "base_uri": "https://localhost:8080/",
          "height": 355
        },
        "id": "-0f-GDo1YMdW",
        "outputId": "2e9207d8-a8c8-4413-939c-7759a87c998c"
      },
      "source": [
        "import pandas as pd\n",
        "df_transactions = pd.read_csv('./data/transactions_train.csv')\n",
        "df_transactions.head(10)"
      ],
      "execution_count": 5,
      "outputs": [
        {
          "output_type": "execute_result",
          "data": {
            "text/html": [
              "<div>\n",
              "<style scoped>\n",
              "    .dataframe tbody tr th:only-of-type {\n",
              "        vertical-align: middle;\n",
              "    }\n",
              "\n",
              "    .dataframe tbody tr th {\n",
              "        vertical-align: top;\n",
              "    }\n",
              "\n",
              "    .dataframe thead th {\n",
              "        text-align: right;\n",
              "    }\n",
              "</style>\n",
              "<table border=\"1\" class=\"dataframe\">\n",
              "  <thead>\n",
              "    <tr style=\"text-align: right;\">\n",
              "      <th></th>\n",
              "      <th>client_id</th>\n",
              "      <th>trans_date</th>\n",
              "      <th>small_group</th>\n",
              "      <th>amount_rur</th>\n",
              "    </tr>\n",
              "  </thead>\n",
              "  <tbody>\n",
              "    <tr>\n",
              "      <th>0</th>\n",
              "      <td>33172</td>\n",
              "      <td>6</td>\n",
              "      <td>4</td>\n",
              "      <td>71.463</td>\n",
              "    </tr>\n",
              "    <tr>\n",
              "      <th>1</th>\n",
              "      <td>33172</td>\n",
              "      <td>6</td>\n",
              "      <td>35</td>\n",
              "      <td>45.017</td>\n",
              "    </tr>\n",
              "    <tr>\n",
              "      <th>2</th>\n",
              "      <td>33172</td>\n",
              "      <td>8</td>\n",
              "      <td>11</td>\n",
              "      <td>13.887</td>\n",
              "    </tr>\n",
              "    <tr>\n",
              "      <th>3</th>\n",
              "      <td>33172</td>\n",
              "      <td>9</td>\n",
              "      <td>11</td>\n",
              "      <td>15.983</td>\n",
              "    </tr>\n",
              "    <tr>\n",
              "      <th>4</th>\n",
              "      <td>33172</td>\n",
              "      <td>10</td>\n",
              "      <td>11</td>\n",
              "      <td>21.341</td>\n",
              "    </tr>\n",
              "    <tr>\n",
              "      <th>5</th>\n",
              "      <td>33172</td>\n",
              "      <td>11</td>\n",
              "      <td>11</td>\n",
              "      <td>17.941</td>\n",
              "    </tr>\n",
              "    <tr>\n",
              "      <th>6</th>\n",
              "      <td>33172</td>\n",
              "      <td>12</td>\n",
              "      <td>11</td>\n",
              "      <td>17.726</td>\n",
              "    </tr>\n",
              "    <tr>\n",
              "      <th>7</th>\n",
              "      <td>33172</td>\n",
              "      <td>13</td>\n",
              "      <td>18</td>\n",
              "      <td>47.397</td>\n",
              "    </tr>\n",
              "    <tr>\n",
              "      <th>8</th>\n",
              "      <td>33172</td>\n",
              "      <td>13</td>\n",
              "      <td>1</td>\n",
              "      <td>220.009</td>\n",
              "    </tr>\n",
              "    <tr>\n",
              "      <th>9</th>\n",
              "      <td>33172</td>\n",
              "      <td>13</td>\n",
              "      <td>11</td>\n",
              "      <td>9.067</td>\n",
              "    </tr>\n",
              "  </tbody>\n",
              "</table>\n",
              "</div>"
            ],
            "text/plain": [
              "   client_id  trans_date  small_group  amount_rur\n",
              "0      33172           6            4      71.463\n",
              "1      33172           6           35      45.017\n",
              "2      33172           8           11      13.887\n",
              "3      33172           9           11      15.983\n",
              "4      33172          10           11      21.341\n",
              "5      33172          11           11      17.941\n",
              "6      33172          12           11      17.726\n",
              "7      33172          13           18      47.397\n",
              "8      33172          13            1     220.009\n",
              "9      33172          13           11       9.067"
            ]
          },
          "metadata": {
            "tags": []
          },
          "execution_count": 5
        }
      ]
    },
    {
      "cell_type": "code",
      "metadata": {
        "colab": {
          "base_uri": "https://localhost:8080/",
          "height": 202
        },
        "id": "A2Sue_BS9QGa",
        "outputId": "33952879-456b-4b5f-ca63-44683f0eec01"
      },
      "source": [
        "codes = pd.read_csv('./data/small_group_description.csv')\n",
        "codes.head()"
      ],
      "execution_count": 6,
      "outputs": [
        {
          "output_type": "execute_result",
          "data": {
            "text/html": [
              "<div>\n",
              "<style scoped>\n",
              "    .dataframe tbody tr th:only-of-type {\n",
              "        vertical-align: middle;\n",
              "    }\n",
              "\n",
              "    .dataframe tbody tr th {\n",
              "        vertical-align: top;\n",
              "    }\n",
              "\n",
              "    .dataframe thead th {\n",
              "        text-align: right;\n",
              "    }\n",
              "</style>\n",
              "<table border=\"1\" class=\"dataframe\">\n",
              "  <thead>\n",
              "    <tr style=\"text-align: right;\">\n",
              "      <th></th>\n",
              "      <th>small_group</th>\n",
              "      <th>small_group_code</th>\n",
              "    </tr>\n",
              "  </thead>\n",
              "  <tbody>\n",
              "    <tr>\n",
              "      <th>0</th>\n",
              "      <td>Зоотовары</td>\n",
              "      <td>0</td>\n",
              "    </tr>\n",
              "    <tr>\n",
              "      <th>1</th>\n",
              "      <td>Сетевые супермаркеты и продуктовые магазины</td>\n",
              "      <td>1</td>\n",
              "    </tr>\n",
              "    <tr>\n",
              "      <th>2</th>\n",
              "      <td>Обслуживание существующего автомобиля (АЗС)</td>\n",
              "      <td>2</td>\n",
              "    </tr>\n",
              "    <tr>\n",
              "      <th>3</th>\n",
              "      <td>Оплата телефона и связи</td>\n",
              "      <td>3</td>\n",
              "    </tr>\n",
              "    <tr>\n",
              "      <th>4</th>\n",
              "      <td>Аптеки</td>\n",
              "      <td>4</td>\n",
              "    </tr>\n",
              "  </tbody>\n",
              "</table>\n",
              "</div>"
            ],
            "text/plain": [
              "                                   small_group  small_group_code\n",
              "0                                    Зоотовары                 0\n",
              "1  Сетевые супермаркеты и продуктовые магазины                 1\n",
              "2  Обслуживание существующего автомобиля (АЗС)                 2\n",
              "3                      Оплата телефона и связи                 3\n",
              "4                                       Аптеки                 4"
            ]
          },
          "metadata": {
            "tags": []
          },
          "execution_count": 6
        }
      ]
    },
    {
      "cell_type": "markdown",
      "metadata": {
        "id": "BuRicGJAznng"
      },
      "source": [
        "**Фильтрация по условию**"
      ]
    },
    {
      "cell_type": "markdown",
      "metadata": {
        "id": "bRf58TKs0Nbj"
      },
      "source": [
        "Хотим отобрать транзакции, которые сделаны в 9-й день в категории \"Аптеки\" (код 4)"
      ]
    },
    {
      "cell_type": "code",
      "metadata": {
        "id": "k4qBZTJVPzfe",
        "outputId": "81b5ff61-0a97-4b84-b7d1-b9a90d4e875f",
        "colab": {
          "base_uri": "https://localhost:8080/",
          "height": 415
        }
      },
      "source": [
        "bool_mask = (df_transactions['trans_date'] == 9) & (df_transactions['small_group'] == 4)\n",
        "df_transactions[bool_mask]"
      ],
      "execution_count": 7,
      "outputs": [
        {
          "output_type": "execute_result",
          "data": {
            "text/html": [
              "<div>\n",
              "<style scoped>\n",
              "    .dataframe tbody tr th:only-of-type {\n",
              "        vertical-align: middle;\n",
              "    }\n",
              "\n",
              "    .dataframe tbody tr th {\n",
              "        vertical-align: top;\n",
              "    }\n",
              "\n",
              "    .dataframe thead th {\n",
              "        text-align: right;\n",
              "    }\n",
              "</style>\n",
              "<table border=\"1\" class=\"dataframe\">\n",
              "  <thead>\n",
              "    <tr style=\"text-align: right;\">\n",
              "      <th></th>\n",
              "      <th>client_id</th>\n",
              "      <th>trans_date</th>\n",
              "      <th>small_group</th>\n",
              "      <th>amount_rur</th>\n",
              "    </tr>\n",
              "  </thead>\n",
              "  <tbody>\n",
              "    <tr>\n",
              "      <th>33621</th>\n",
              "      <td>38624</td>\n",
              "      <td>9</td>\n",
              "      <td>4</td>\n",
              "      <td>1.574</td>\n",
              "    </tr>\n",
              "    <tr>\n",
              "      <th>51916</th>\n",
              "      <td>18792</td>\n",
              "      <td>9</td>\n",
              "      <td>4</td>\n",
              "      <td>22.715</td>\n",
              "    </tr>\n",
              "    <tr>\n",
              "      <th>63474</th>\n",
              "      <td>29994</td>\n",
              "      <td>9</td>\n",
              "      <td>4</td>\n",
              "      <td>12.723</td>\n",
              "    </tr>\n",
              "    <tr>\n",
              "      <th>72464</th>\n",
              "      <td>49816</td>\n",
              "      <td>9</td>\n",
              "      <td>4</td>\n",
              "      <td>40.410</td>\n",
              "    </tr>\n",
              "    <tr>\n",
              "      <th>120016</th>\n",
              "      <td>31099</td>\n",
              "      <td>9</td>\n",
              "      <td>4</td>\n",
              "      <td>59.171</td>\n",
              "    </tr>\n",
              "    <tr>\n",
              "      <th>...</th>\n",
              "      <td>...</td>\n",
              "      <td>...</td>\n",
              "      <td>...</td>\n",
              "      <td>...</td>\n",
              "    </tr>\n",
              "    <tr>\n",
              "      <th>26196758</th>\n",
              "      <td>15202</td>\n",
              "      <td>9</td>\n",
              "      <td>4</td>\n",
              "      <td>10.991</td>\n",
              "    </tr>\n",
              "    <tr>\n",
              "      <th>26212348</th>\n",
              "      <td>43721</td>\n",
              "      <td>9</td>\n",
              "      <td>4</td>\n",
              "      <td>10.695</td>\n",
              "    </tr>\n",
              "    <tr>\n",
              "      <th>26219634</th>\n",
              "      <td>24450</td>\n",
              "      <td>9</td>\n",
              "      <td>4</td>\n",
              "      <td>5.587</td>\n",
              "    </tr>\n",
              "    <tr>\n",
              "      <th>26233845</th>\n",
              "      <td>39792</td>\n",
              "      <td>9</td>\n",
              "      <td>4</td>\n",
              "      <td>7.785</td>\n",
              "    </tr>\n",
              "    <tr>\n",
              "      <th>26346046</th>\n",
              "      <td>47485</td>\n",
              "      <td>9</td>\n",
              "      <td>4</td>\n",
              "      <td>15.914</td>\n",
              "    </tr>\n",
              "  </tbody>\n",
              "</table>\n",
              "<p>1459 rows × 4 columns</p>\n",
              "</div>"
            ],
            "text/plain": [
              "          client_id  trans_date  small_group  amount_rur\n",
              "33621         38624           9            4       1.574\n",
              "51916         18792           9            4      22.715\n",
              "63474         29994           9            4      12.723\n",
              "72464         49816           9            4      40.410\n",
              "120016        31099           9            4      59.171\n",
              "...             ...         ...          ...         ...\n",
              "26196758      15202           9            4      10.991\n",
              "26212348      43721           9            4      10.695\n",
              "26219634      24450           9            4       5.587\n",
              "26233845      39792           9            4       7.785\n",
              "26346046      47485           9            4      15.914\n",
              "\n",
              "[1459 rows x 4 columns]"
            ]
          },
          "metadata": {
            "tags": []
          },
          "execution_count": 7
        }
      ]
    },
    {
      "cell_type": "markdown",
      "metadata": {
        "id": "ka28M2u40auU"
      },
      "source": [
        "Хотим оставить только транзакции, сумма которых больше 100 рублей"
      ]
    },
    {
      "cell_type": "code",
      "metadata": {
        "id": "bl49kjUBeRQy",
        "outputId": "d42e869b-7592-4895-e85c-3ea05debb237",
        "colab": {
          "base_uri": "https://localhost:8080/",
          "height": 415
        }
      },
      "source": [
        "df_transactions[df_transactions['amount_rur'] >= 100]"
      ],
      "execution_count": 8,
      "outputs": [
        {
          "output_type": "execute_result",
          "data": {
            "text/html": [
              "<div>\n",
              "<style scoped>\n",
              "    .dataframe tbody tr th:only-of-type {\n",
              "        vertical-align: middle;\n",
              "    }\n",
              "\n",
              "    .dataframe tbody tr th {\n",
              "        vertical-align: top;\n",
              "    }\n",
              "\n",
              "    .dataframe thead th {\n",
              "        text-align: right;\n",
              "    }\n",
              "</style>\n",
              "<table border=\"1\" class=\"dataframe\">\n",
              "  <thead>\n",
              "    <tr style=\"text-align: right;\">\n",
              "      <th></th>\n",
              "      <th>client_id</th>\n",
              "      <th>trans_date</th>\n",
              "      <th>small_group</th>\n",
              "      <th>amount_rur</th>\n",
              "    </tr>\n",
              "  </thead>\n",
              "  <tbody>\n",
              "    <tr>\n",
              "      <th>8</th>\n",
              "      <td>33172</td>\n",
              "      <td>13</td>\n",
              "      <td>1</td>\n",
              "      <td>220.009</td>\n",
              "    </tr>\n",
              "    <tr>\n",
              "      <th>31</th>\n",
              "      <td>33172</td>\n",
              "      <td>34</td>\n",
              "      <td>40</td>\n",
              "      <td>242.898</td>\n",
              "    </tr>\n",
              "    <tr>\n",
              "      <th>35</th>\n",
              "      <td>33172</td>\n",
              "      <td>37</td>\n",
              "      <td>9</td>\n",
              "      <td>285.893</td>\n",
              "    </tr>\n",
              "    <tr>\n",
              "      <th>40</th>\n",
              "      <td>33172</td>\n",
              "      <td>41</td>\n",
              "      <td>24</td>\n",
              "      <td>263.941</td>\n",
              "    </tr>\n",
              "    <tr>\n",
              "      <th>48</th>\n",
              "      <td>33172</td>\n",
              "      <td>49</td>\n",
              "      <td>9</td>\n",
              "      <td>340.625</td>\n",
              "    </tr>\n",
              "    <tr>\n",
              "      <th>...</th>\n",
              "      <td>...</td>\n",
              "      <td>...</td>\n",
              "      <td>...</td>\n",
              "      <td>...</td>\n",
              "    </tr>\n",
              "    <tr>\n",
              "      <th>26450063</th>\n",
              "      <td>43300</td>\n",
              "      <td>412</td>\n",
              "      <td>1</td>\n",
              "      <td>184.611</td>\n",
              "    </tr>\n",
              "    <tr>\n",
              "      <th>26450072</th>\n",
              "      <td>43300</td>\n",
              "      <td>419</td>\n",
              "      <td>1</td>\n",
              "      <td>185.064</td>\n",
              "    </tr>\n",
              "    <tr>\n",
              "      <th>26450282</th>\n",
              "      <td>43300</td>\n",
              "      <td>540</td>\n",
              "      <td>54</td>\n",
              "      <td>232.458</td>\n",
              "    </tr>\n",
              "    <tr>\n",
              "      <th>26450307</th>\n",
              "      <td>43300</td>\n",
              "      <td>562</td>\n",
              "      <td>26</td>\n",
              "      <td>107.665</td>\n",
              "    </tr>\n",
              "    <tr>\n",
              "      <th>26450457</th>\n",
              "      <td>43300</td>\n",
              "      <td>658</td>\n",
              "      <td>39</td>\n",
              "      <td>168.985</td>\n",
              "    </tr>\n",
              "  </tbody>\n",
              "</table>\n",
              "<p>2652772 rows × 4 columns</p>\n",
              "</div>"
            ],
            "text/plain": [
              "          client_id  trans_date  small_group  amount_rur\n",
              "8             33172          13            1     220.009\n",
              "31            33172          34           40     242.898\n",
              "35            33172          37            9     285.893\n",
              "40            33172          41           24     263.941\n",
              "48            33172          49            9     340.625\n",
              "...             ...         ...          ...         ...\n",
              "26450063      43300         412            1     184.611\n",
              "26450072      43300         419            1     185.064\n",
              "26450282      43300         540           54     232.458\n",
              "26450307      43300         562           26     107.665\n",
              "26450457      43300         658           39     168.985\n",
              "\n",
              "[2652772 rows x 4 columns]"
            ]
          },
          "metadata": {
            "tags": []
          },
          "execution_count": 8
        }
      ]
    },
    {
      "cell_type": "markdown",
      "metadata": {
        "id": "PYdpTYkM599Q"
      },
      "source": [
        "# Учимся отвечать на базовые вопросы по данным\n",
        "- какие столбцы (признаки) есть в таблице?\n",
        "- сколько объектов в таблице?\n",
        "- сколько уникальных значений в каждом столбце?\n",
        "\n",
        "# Учимся отвечать на бизнес-вопросы по данным\n",
        "- За сколько дней в таблице представлены данные?\n",
        "- Какая средняя сумма транзакции?\n",
        "- Какая средняя сумма транзакции в каждой категории?\n",
        "- какое количество транзакций в каждм дне?"
      ]
    },
    {
      "cell_type": "markdown",
      "metadata": {
        "id": "3PMSgrDTcCu3"
      },
      "source": [
        "Далее вам даны примеры вопросов (некоторые сразу с решением)"
      ]
    },
    {
      "cell_type": "markdown",
      "metadata": {
        "id": "Bm1yeFyYYXw2"
      },
      "source": [
        "- Какая средняя сумма транзакции?"
      ]
    },
    {
      "cell_type": "markdown",
      "metadata": {
        "id": "alHyCgo2Yrt7"
      },
      "source": [
        "- Какая средняя сумма транзакции в категории \"Аптеки\" (код 4)?"
      ]
    },
    {
      "cell_type": "markdown",
      "metadata": {
        "id": "h7H15Gb8abqC"
      },
      "source": [
        "- Какая средняя сумма транзакции в каждой категории?\n",
        "\n",
        "Для этого используйте метод groupby"
      ]
    },
    {
      "cell_type": "markdown",
      "metadata": {
        "id": "D-R6w7vv3H94"
      },
      "source": [
        " - Постройте график числа транзакций по дням"
      ]
    },
    {
      "cell_type": "markdown",
      "metadata": {
        "id": "2168dRKu3oyl"
      },
      "source": [
        " - Постройте гистограмму распределения суммы транзакций"
      ]
    },
    {
      "cell_type": "code",
      "metadata": {
        "id": "_qe5VHqSiUkI",
        "outputId": "c2b04c2f-38f0-4086-f7a8-1b6c039fd7ef",
        "colab": {
          "base_uri": "https://localhost:8080/"
        }
      },
      "source": [
        "#какие столбцы (признаки) есть в таблице?\n",
        "df_transactions.columns"
      ],
      "execution_count": 151,
      "outputs": [
        {
          "output_type": "execute_result",
          "data": {
            "text/plain": [
              "Index(['client_id', 'trans_date', 'small_group', 'amount_rur'], dtype='object')"
            ]
          },
          "metadata": {
            "tags": []
          },
          "execution_count": 151
        }
      ]
    },
    {
      "cell_type": "code",
      "metadata": {
        "id": "SYCFVBiHit0M",
        "outputId": "3e53cf35-bb6c-4e82-f8ac-129b5feb03d0",
        "colab": {
          "base_uri": "https://localhost:8080/"
        }
      },
      "source": [
        "#сколько объектов в таблице?\n",
        "df_transactions.shape"
      ],
      "execution_count": 152,
      "outputs": [
        {
          "output_type": "execute_result",
          "data": {
            "text/plain": [
              "(26450577, 4)"
            ]
          },
          "metadata": {
            "tags": []
          },
          "execution_count": 152
        }
      ]
    },
    {
      "cell_type": "code",
      "metadata": {
        "id": "3Tpspm4Wi8LZ",
        "outputId": "0771c675-3279-482a-ae95-44a88e22b63a",
        "colab": {
          "base_uri": "https://localhost:8080/"
        }
      },
      "source": [
        "#сколько уникальных значений в каждом столбце?\n",
        "df_transactions[\"client_id\"].nunique()\n"
      ],
      "execution_count": 156,
      "outputs": [
        {
          "output_type": "execute_result",
          "data": {
            "text/plain": [
              "30000"
            ]
          },
          "metadata": {
            "tags": []
          },
          "execution_count": 156
        }
      ]
    },
    {
      "cell_type": "code",
      "metadata": {
        "id": "gUp5hCUyjxKu",
        "outputId": "a34f8805-5b97-4465-8ae6-1929b5574c5b",
        "colab": {
          "base_uri": "https://localhost:8080/"
        }
      },
      "source": [
        "df_transactions[\"trans_date\"].nunique()"
      ],
      "execution_count": 157,
      "outputs": [
        {
          "output_type": "execute_result",
          "data": {
            "text/plain": [
              "730"
            ]
          },
          "metadata": {
            "tags": []
          },
          "execution_count": 157
        }
      ]
    },
    {
      "cell_type": "code",
      "metadata": {
        "id": "dnACc-sgjzDE",
        "outputId": "243c8a44-f781-4c0f-826e-c633a48fdc75",
        "colab": {
          "base_uri": "https://localhost:8080/"
        }
      },
      "source": [
        "df_transactions[\"small_group\"].nunique()"
      ],
      "execution_count": 158,
      "outputs": [
        {
          "output_type": "execute_result",
          "data": {
            "text/plain": [
              "202"
            ]
          },
          "metadata": {
            "tags": []
          },
          "execution_count": 158
        }
      ]
    },
    {
      "cell_type": "code",
      "metadata": {
        "id": "uyCHYHW2j0jj",
        "outputId": "d4c5c440-f8ca-4724-eca4-e6a1a489b8a7",
        "colab": {
          "base_uri": "https://localhost:8080/"
        }
      },
      "source": [
        "df_transactions[\"amount_rur\"].nunique()"
      ],
      "execution_count": 159,
      "outputs": [
        {
          "output_type": "execute_result",
          "data": {
            "text/plain": [
              "503945"
            ]
          },
          "metadata": {
            "tags": []
          },
          "execution_count": 159
        }
      ]
    },
    {
      "cell_type": "code",
      "metadata": {
        "id": "9mf93bSAjfRs",
        "outputId": "178363fa-1b8f-4645-8d95-34830fc0cb57",
        "colab": {
          "base_uri": "https://localhost:8080/"
        }
      },
      "source": [
        "#За сколько дней в таблице представлены данные?\n",
        "df_transactions[\"trans_date\"].max()"
      ],
      "execution_count": 161,
      "outputs": [
        {
          "output_type": "execute_result",
          "data": {
            "text/plain": [
              "729"
            ]
          },
          "metadata": {
            "tags": []
          },
          "execution_count": 161
        }
      ]
    },
    {
      "cell_type": "code",
      "metadata": {
        "id": "_JTszUpYkct-",
        "outputId": "3c57297d-7fc3-4c45-b728-6bf161dcb731",
        "colab": {
          "base_uri": "https://localhost:8080/"
        }
      },
      "source": [
        "#Какая средняя сумма транзакции?\n",
        "df_transactions[\"amount_rur\"].mean()"
      ],
      "execution_count": 168,
      "outputs": [
        {
          "output_type": "execute_result",
          "data": {
            "text/plain": [
              "55.862152361917445"
            ]
          },
          "metadata": {
            "tags": []
          },
          "execution_count": 168
        }
      ]
    },
    {
      "cell_type": "code",
      "metadata": {
        "id": "a0yWMNgBlD__",
        "outputId": "9e1a1131-13fb-45dc-926b-09b378e7759a",
        "colab": {
          "base_uri": "https://localhost:8080/"
        }
      },
      "source": [
        "#Какая средняя сумма транзакции в каждой категории?\n",
        "df_transactions.groupby(\"small_group\")[\"amount_rur\"].mean()"
      ],
      "execution_count": 172,
      "outputs": [
        {
          "output_type": "execute_result",
          "data": {
            "text/plain": [
              "small_group\n",
              "0       43.634181\n",
              "1       41.666898\n",
              "2       57.532662\n",
              "3       19.819042\n",
              "4       34.616480\n",
              "          ...    \n",
              "198    339.253889\n",
              "199     45.795000\n",
              "200    126.484000\n",
              "202     72.919500\n",
              "203     68.968000\n",
              "Name: amount_rur, Length: 202, dtype: float64"
            ]
          },
          "metadata": {
            "tags": []
          },
          "execution_count": 172
        }
      ]
    },
    {
      "cell_type": "code",
      "metadata": {
        "id": "9_t4j5J0lyV4",
        "outputId": "31dd9183-6360-4687-fdc4-346b7c8605b0",
        "colab": {
          "base_uri": "https://localhost:8080/"
        }
      },
      "source": [
        "#какое количество транзакций в каждм дне?\n",
        "df_transactions.groupby(\"trans_date\")[\"amount_rur\"].count()"
      ],
      "execution_count": 173,
      "outputs": [
        {
          "output_type": "execute_result",
          "data": {
            "text/plain": [
              "trans_date\n",
              "0      13114\n",
              "1      21716\n",
              "2      23317\n",
              "3      23658\n",
              "4      24050\n",
              "       ...  \n",
              "725    49452\n",
              "726    50789\n",
              "727    52330\n",
              "728    49675\n",
              "729    39019\n",
              "Name: amount_rur, Length: 730, dtype: int64"
            ]
          },
          "metadata": {
            "tags": []
          },
          "execution_count": 173
        }
      ]
    },
    {
      "cell_type": "code",
      "metadata": {
        "id": "SxbTR_0fmU0n",
        "outputId": "ba5206a4-d7ec-4792-fe62-08dcfdeea32d",
        "colab": {
          "base_uri": "https://localhost:8080/",
          "height": 373
        }
      },
      "source": [
        "#Постройте график числа транзакций по дням\n",
        "e=df_transactions.groupby(\"trans_date\")[\"amount_rur\"].count()\n",
        "e.plot.bar()"
      ],
      "execution_count": 176,
      "outputs": [
        {
          "output_type": "execute_result",
          "data": {
            "text/plain": [
              "<matplotlib.axes._subplots.AxesSubplot at 0x7f9b54ccec90>"
            ]
          },
          "metadata": {
            "tags": []
          },
          "execution_count": 176
        },
        {
          "output_type": "display_data",
          "data": {
            "image/png": "[encoded data removed]",
            "text/plain": [
              "<Figure size 1080x360 with 1 Axes>"
            ]
          },
          "metadata": {
            "tags": []
          }
        }
      ]
    },
    {
      "cell_type": "code",
      "metadata": {
        "id": "NqOwnw2FmWyz",
        "outputId": "4f7edafd-9eff-49e8-8826-d13ade508ffd",
        "colab": {
          "base_uri": "https://localhost:8080/",
          "height": 359
        }
      },
      "source": [
        "u=df_transactions.groupby(\"trans_date\")[\"amount_rur\"].sum()\n",
        "\n",
        "u.plot.hist(bins = df_transactions[\"trans_date\"].max())\n",
        "#Постройте гистограмму распределения суммы транзакций"
      ],
      "execution_count": 186,
      "outputs": [
        {
          "output_type": "execute_result",
          "data": {
            "text/plain": [
              "<matplotlib.axes._subplots.AxesSubplot at 0x7f9b4be555d0>"
            ]
          },
          "metadata": {
            "tags": []
          },
          "execution_count": 186
        },
        {
          "output_type": "display_data",
          "data": {
            "image/png": "[encoded data removed]",
            "text/plain": [
              "<Figure size 1080x360 with 1 Axes>"
            ]
          },
          "metadata": {
            "tags": []
          }
        }
      ]
    },
    {
      "cell_type": "markdown",
      "metadata": {
        "id": "RIMnDMRhEP1F"
      },
      "source": [
        "# Задание (5 баллов)\n",
        "Постройтие график топ-10 категорий\n",
        "- по общей сумме трат\n",
        "- по срендему чеку\n",
        "- по числу транзакций\n",
        "\n",
        "Ось ОХ должна быть подписана названиями категорий, а не просто кодами категорий!"
      ]
    },
    {
      "cell_type": "markdown",
      "metadata": {
        "id": "h_oCG06VSYM7"
      },
      "source": [
        "- groupby по small_group\n",
        "- суммируем amount_rur\n",
        "- сделать сортировку\n",
        "- взять топ-10\n",
        "- сделать join (merge) для присвоения названий категориям\n",
        "- построить график типа bar"
      ]
    },
    {
      "cell_type": "code",
      "metadata": {
        "id": "cqhnYn3nALk9"
      },
      "source": [
        ""
      ],
      "execution_count": null,
      "outputs": []
    },
    {
      "cell_type": "code",
      "metadata": {
        "id": "8PJTKjcxT2x0",
        "outputId": "f1fbeb67-d2aa-4c61-8c3f-45735a004829",
        "colab": {
          "base_uri": "https://localhost:8080/"
        }
      },
      "source": [
        "# агрегируем сумму денег по категориям\n",
        "a=df_transactions.groupby(\"small_group\")[\"amount_rur\"].sum().sort_values(ascending = False).head(10)\n",
        "a"
      ],
      "execution_count": 112,
      "outputs": [
        {
          "output_type": "execute_result",
          "data": {
            "text/plain": [
              "small_group\n",
              "1     3.388091e+08\n",
              "24    9.138056e+07\n",
              "11    6.834635e+07\n",
              "5     6.527740e+07\n",
              "2     5.226313e+07\n",
              "18    5.076317e+07\n",
              "3     4.814014e+07\n",
              "9     4.440053e+07\n",
              "4     4.180300e+07\n",
              "28    3.695206e+07\n",
              "Name: amount_rur, dtype: float64"
            ]
          },
          "metadata": {
            "tags": []
          },
          "execution_count": 112
        }
      ]
    },
    {
      "cell_type": "code",
      "metadata": {
        "id": "6LS7g9wAatJu",
        "outputId": "a6ec46a9-55cd-4e42-c7fd-e3f19289cfa4",
        "colab": {
          "base_uri": "https://localhost:8080/",
          "height": 355
        }
      },
      "source": [
        "# мерджим (pd.merge()) с расшифровкой кодов\n",
        "s=pd.merge(a, codes, how = \"inner\", left_on=\"small_group\", right_on = \"small_group_code\")\n",
        "s"
      ],
      "execution_count": 113,
      "outputs": [
        {
          "output_type": "execute_result",
          "data": {
            "text/html": [
              "<div>\n",
              "<style scoped>\n",
              "    .dataframe tbody tr th:only-of-type {\n",
              "        vertical-align: middle;\n",
              "    }\n",
              "\n",
              "    .dataframe tbody tr th {\n",
              "        vertical-align: top;\n",
              "    }\n",
              "\n",
              "    .dataframe thead th {\n",
              "        text-align: right;\n",
              "    }\n",
              "</style>\n",
              "<table border=\"1\" class=\"dataframe\">\n",
              "  <thead>\n",
              "    <tr style=\"text-align: right;\">\n",
              "      <th></th>\n",
              "      <th>amount_rur</th>\n",
              "      <th>small_group</th>\n",
              "      <th>small_group_code</th>\n",
              "    </tr>\n",
              "  </thead>\n",
              "  <tbody>\n",
              "    <tr>\n",
              "      <th>0</th>\n",
              "      <td>3.388091e+08</td>\n",
              "      <td>Сетевые супермаркеты и продуктовые магазины</td>\n",
              "      <td>1</td>\n",
              "    </tr>\n",
              "    <tr>\n",
              "      <th>1</th>\n",
              "      <td>9.138056e+07</td>\n",
              "      <td>Одежда</td>\n",
              "      <td>24</td>\n",
              "    </tr>\n",
              "    <tr>\n",
              "      <th>2</th>\n",
              "      <td>6.834635e+07</td>\n",
              "      <td>Фастфуд и кафе</td>\n",
              "      <td>11</td>\n",
              "    </tr>\n",
              "    <tr>\n",
              "      <th>3</th>\n",
              "      <td>6.527740e+07</td>\n",
              "      <td>Авиабилеты</td>\n",
              "      <td>5</td>\n",
              "    </tr>\n",
              "    <tr>\n",
              "      <th>4</th>\n",
              "      <td>5.226313e+07</td>\n",
              "      <td>Обслуживание существующего автомобиля (АЗС)</td>\n",
              "      <td>2</td>\n",
              "    </tr>\n",
              "    <tr>\n",
              "      <th>5</th>\n",
              "      <td>5.076317e+07</td>\n",
              "      <td>Рестораны и кафе</td>\n",
              "      <td>18</td>\n",
              "    </tr>\n",
              "    <tr>\n",
              "      <th>6</th>\n",
              "      <td>4.814014e+07</td>\n",
              "      <td>Оплата телефона и связи</td>\n",
              "      <td>3</td>\n",
              "    </tr>\n",
              "    <tr>\n",
              "      <th>7</th>\n",
              "      <td>4.440053e+07</td>\n",
              "      <td>Универсальные товары</td>\n",
              "      <td>9</td>\n",
              "    </tr>\n",
              "    <tr>\n",
              "      <th>8</th>\n",
              "      <td>4.180300e+07</td>\n",
              "      <td>Аптеки</td>\n",
              "      <td>4</td>\n",
              "    </tr>\n",
              "    <tr>\n",
              "      <th>9</th>\n",
              "      <td>3.695206e+07</td>\n",
              "      <td>Бытовая техника; компьютерная техника; мобильн...</td>\n",
              "      <td>28</td>\n",
              "    </tr>\n",
              "  </tbody>\n",
              "</table>\n",
              "</div>"
            ],
            "text/plain": [
              "     amount_rur  ... small_group_code\n",
              "0  3.388091e+08  ...                1\n",
              "1  9.138056e+07  ...               24\n",
              "2  6.834635e+07  ...               11\n",
              "3  6.527740e+07  ...                5\n",
              "4  5.226313e+07  ...                2\n",
              "5  5.076317e+07  ...               18\n",
              "6  4.814014e+07  ...                3\n",
              "7  4.440053e+07  ...                9\n",
              "8  4.180300e+07  ...                4\n",
              "9  3.695206e+07  ...               28\n",
              "\n",
              "[10 rows x 3 columns]"
            ]
          },
          "metadata": {
            "tags": []
          },
          "execution_count": 113
        }
      ]
    },
    {
      "cell_type": "code",
      "metadata": {
        "id": "OVAjencxJdhS"
      },
      "source": [
        "# Заклинание, нужное для отрисовки графиков непосредственно в ноутбуке\n",
        "%matplotlib inline\n",
        "# Настройка стиля и размера графиков\n",
        "import matplotlib.pyplot as plt\n",
        "matplotlib.rcParams['figure.figsize'] = (10.0, 6.0)\n",
        "matplotlib.pyplot.style.use('ggplot')\n",
        "\n",
        "pylab.rcParams.update(params)"
      ],
      "execution_count": 84,
      "outputs": []
    },
    {
      "cell_type": "code",
      "metadata": {
        "id": "NSX794b_Jumk",
        "outputId": "61e47d12-cbf9-4f3f-8467-d5afca526c85",
        "colab": {
          "base_uri": "https://localhost:8080/",
          "height": 310
        }
      },
      "source": [
        "#s.head(10).plot.barh('small_group', 'amount_rur');\n",
        "dbf = s.head(10).plot.barh('small_group', 'amount_rur',color='magenta', width=0.9)\n",
        "plt.xlabel('число транзакций')\n",
        "plt.ylabel('категории')\n",
        "plt.title('топ категорий по сумарным тратам')\n",
        "plt.legend(['категории'])\n",
        "dbf.invert_yaxis()"
      ],
      "execution_count": 149,
      "outputs": [
        {
          "output_type": "display_data",
          "data": {
            "image/png": "[encoded data removed]",
            "text/plain": [
              "<Figure size 1080x360 with 1 Axes>"
            ]
          },
          "metadata": {
            "tags": []
          }
        }
      ]
    },
    {
      "cell_type": "code",
      "metadata": {
        "colab": {
          "base_uri": "https://localhost:8080/",
          "height": 636
        },
        "id": "FLXDhrlnW6uj",
        "outputId": "178539a3-2eff-4519-eac1-6b4c43dfd4d9"
      },
      "source": [
        "# строим график (\"пример\" ниже)"
      ],
      "execution_count": null,
      "outputs": [
        {
          "output_type": "display_data",
          "data": {
            "image/png": "[encoded data removed]",
            "text/plain": [
              "<Figure size 1152x720 with 1 Axes>"
            ]
          },
          "metadata": {
            "tags": [],
            "needs_background": "light"
          }
        }
      ]
    }
  ]
}